{
 "cells": [
  {
   "cell_type": "markdown",
   "metadata": {},
   "source": [
    "# Python and pandas for Excel users by Marvin\n",
    "\n",
    "This is a beginner's tutorial to Python and one of its libraries, `pandas`.\n",
    "\n",
    "# Table of Contents\n",
    "\n",
    "- [What is Python?](#What-is-Python?)\n",
    "- [What is a library?](#What-is-a-library?-)\n",
    "- [Introduction to Python](#Introduction-to-Python)\n",
    "- [Basic Python Data Types](#Basic-Python-Data-Types)\n",
    "- [Python Operations](#Python-Operations)\n",
    "    - [Common Mathematical Operations](#Common-Mathematical-Operations)\n",
    "    - [Boolean Operations](#Boolean-Operations)\n",
    "    - [Accesing data types (Indexing)](#Accessing-data-types-(Indexing))\n",
    "- [Basic Flow Control](#Basic-Flow-Control)\n",
    "    - [Loops](#Loops)\n",
    "    - [If-else statement](#If-else-statement)\n",
    "- [List Comprehension](#List-Comprehension)\n",
    "- [Importing Libraries](#Importing-libraries)\n",
    "- [Other Resources](#Other-Resources)\n",
    "- [Introduction to pandas](#Introduction-to-pandas)\n",
    "    - [Why pandas? according to their website](#Why-pandas?-according-to-their-website)\n",
    "    - [Why pandas? according to me](#Why-pandas?-according-to-me)\n",
    "- [pandas DataFrames](#pandas-DataFrames)\n",
    "- [Creating and viewing a pandas Dataframe](#Creating-and-viewing-a-pandas-Dataframe)\n",
    "- [DataFrame columns and Rows](#DataFrame-columns-and-Rows)\n",
    "- [Selecting Data from a DataFrame](#Selecting-Data-from-a-DataFrame)\n",
    "    - [Selection using Indices](#Selection-using-Indices)\n",
    "    - [Selection using labels](#Selection-using-labels)\n",
    "    - [Boolean Selection](#Boolean-Selection)\n",
    "- [Merging DataFrames](#Merging-DataFrames)\n",
    "    - [Inner, Left and Right Join](#Inner,-Left-and-Right-Join)\n",
    "    - [Concatenating Tables](#Concatenating-Tables)\n",
    "    - [Appending Tables](#Appending-Tables)\n",
    "- [Grouping and Reshaping](#Grouping-and-Reshaping)\n",
    "    - [Group By](#Group-By)\n",
    "    - [Pivot Tables](#Pivot-Tables)\n",
    "    - [Stack](#Stack)\n",
    "- [Plotting Data](#Plotting-Data)\n",
    "- [Importing from files](#Importing-from-files)\n",
    "- [Exporting to files](#Exporting-to-files)\n",
    "- [Some basic statistical functions](#Some-basic-statistical-functions)\n",
    "- [References](#References)\n",
    "- [Installation Help](#Installation-Help)\n",
    "\n",
    "---\n",
    "\n",
    "\n",
    "Python is a very popular language due to it being:\n",
    "\n",
    "1. Easy to use; \n",
    "2. Readable; and\n",
    "3. having a strong community support.\n",
    "\n",
    "It is the language of choice of data professionals.\n",
    "\n",
    "Before starting this tutorial, you should download Anaconda [here](https://www.anaconda.com/products/individual). Anaconda is a software platform that supports Python.\n",
    "\n",
    "If you find yourself having trouble downloading Anaconda (i.e. *file size too big*), you may separately download Python from your computer's Windows Store and follow [these instructions](https://pandas.pydata.org/docs/getting_started/install.html) for installing pandas.\n",
    "\n",
    "## What is Python?\n",
    "\n",
    "**Python is a programming language.** You use it to communicate to your computer. It was first developed in 1990 and is currently on its version 3.8. Due to its popularity, a lot of ***libraries*** have been created to make it easy to use Python to develop software, to create website and to handle large computing data.\n",
    "\n",
    "**Python is open-sourced.** That means that everyone can see how Python is coded. Everyone is also [welcome to contribute](https://devguide.python.org/). This adds a layer of security as, when in doubt, you can check the codebase yourself.\n",
    "\n",
    "## What is a library?\n",
    "\n",
    "A library is a collection of resources that a program can use. Everyone can create a library. Pandas is one of Python's libraries.\n",
    "\n",
    "You can also check out other Python libraries at PyPI.org.\n",
    "\n",
    "## What is pandas?\n",
    "\n",
    "Pandas is a Python library made especially for data manipulation and analysis.\n",
    "\n",
    "It deals with tabular data and is commonly paired with other libraries such as `numpy` (for scientific computing) and `matplotlib` (for creating charts).\n",
    "\n",
    "However, before jumping straight into pandas, let's have a Python refresher and see what kind of problems pandas can solve.\n",
    "\n",
    "## Introduction to Python\n",
    "\n",
    "Regardless of the installation instructions you followed at the beginning of the tutorial, you should be able to launch Python through any of the following: \n",
    "\n",
    "- On Command Prompt, enter 'python'\n",
    "- On Start Menu, click 'Python 3.8'\n",
    "- On the Run command (Windows button + R), enter 'python'\n",
    "\n",
    "You'll see a boring command-line interface. Don't fret, though! If you type in `1+1` and it returns `2`, then you're all set!\n",
    "\n",
    "## Basic Python Data Types\n",
    "\n",
    "Using the `type()` function, you can return what data type a specific value is.\n",
    "\n",
    "Below are examples of built-in data types in Python."
   ]
  },
  {
   "cell_type": "code",
   "execution_count": 7,
   "metadata": {},
   "outputs": [
    {
     "data": {
      "text/plain": [
       "int"
      ]
     },
     "execution_count": 7,
     "metadata": {},
     "output_type": "execute_result"
    }
   ],
   "source": [
    "# Numbers with no decimal digits are int\n",
    "type(123456789)"
   ]
  },
  {
   "cell_type": "code",
   "execution_count": 6,
   "metadata": {},
   "outputs": [
    {
     "data": {
      "text/plain": [
       "float"
      ]
     },
     "execution_count": 6,
     "metadata": {},
     "output_type": "execute_result"
    }
   ],
   "source": [
    "# Numbers with decimal digits are float\n",
    "type(42.0)"
   ]
  },
  {
   "cell_type": "code",
   "execution_count": 9,
   "metadata": {},
   "outputs": [
    {
     "data": {
      "text/plain": [
       "complex"
      ]
     },
     "execution_count": 9,
     "metadata": {},
     "output_type": "execute_result"
    }
   ],
   "source": [
    "# Complex numbers are numbers followed by j\n",
    "type(42j)"
   ]
  },
  {
   "cell_type": "code",
   "execution_count": 10,
   "metadata": {},
   "outputs": [
    {
     "data": {
      "text/plain": [
       "str"
      ]
     },
     "execution_count": 10,
     "metadata": {},
     "output_type": "execute_result"
    }
   ],
   "source": [
    "# Characters, regardless of length are called str\n",
    "type('Marvin')"
   ]
  },
  {
   "cell_type": "code",
   "execution_count": 11,
   "metadata": {},
   "outputs": [
    {
     "data": {
      "text/plain": [
       "list"
      ]
     },
     "execution_count": 11,
     "metadata": {},
     "output_type": "execute_result"
    }
   ],
   "source": [
    "# There are also iterable data types such as lists, tuples. There's also dict.\n",
    "\n",
    "# A list is enclosed in brackets.\n",
    "# It may contain other data types, including a list in itself!\n",
    "type([1, 2, 3, 'Marvin', 23.4, 45j])"
   ]
  },
  {
   "cell_type": "code",
   "execution_count": 1,
   "metadata": {},
   "outputs": [
    {
     "data": {
      "text/plain": [
       "list"
      ]
     },
     "execution_count": 1,
     "metadata": {},
     "output_type": "execute_result"
    }
   ],
   "source": [
    "# 2D list, or lists within a list\n",
    "\n",
    "type(\n",
    "[[ 1,  2,     3],\n",
    " [86, 89,   100],\n",
    " ['c', 'd', 'a']])"
   ]
  },
  {
   "cell_type": "code",
   "execution_count": 12,
   "metadata": {},
   "outputs": [
    {
     "data": {
      "text/plain": [
       "tuple"
      ]
     },
     "execution_count": 12,
     "metadata": {},
     "output_type": "execute_result"
    }
   ],
   "source": [
    "# A tuple is enclosed in parentheses.\n",
    "# A one-element tuple should have a trailing comma\n",
    "\n",
    "type((12, 13, 14, 'Marvin', 16))"
   ]
  },
  {
   "cell_type": "code",
   "execution_count": 13,
   "metadata": {},
   "outputs": [
    {
     "data": {
      "text/plain": [
       "tuple"
      ]
     },
     "execution_count": 13,
     "metadata": {},
     "output_type": "execute_result"
    }
   ],
   "source": [
    "# If you remove the comma, it will return \"int\" because Python will fail to know\n",
    "# that you were creating a tuple\n",
    "type((12,))"
   ]
  },
  {
   "cell_type": "code",
   "execution_count": 88,
   "metadata": {},
   "outputs": [
    {
     "data": {
      "text/plain": [
       "dict"
      ]
     },
     "execution_count": 88,
     "metadata": {},
     "output_type": "execute_result"
    }
   ],
   "source": [
    "'''A dict is enclosed by curly brackets\n",
    "Dict data type should always a \"key-value\" pairs'''\n",
    "\n",
    "type({\"name\" : \"Marvin\", \"age\" : 18 })"
   ]
  },
  {
   "cell_type": "code",
   "execution_count": 18,
   "metadata": {},
   "outputs": [
    {
     "data": {
      "text/plain": [
       "int"
      ]
     },
     "execution_count": 18,
     "metadata": {},
     "output_type": "execute_result"
    }
   ],
   "source": [
    "# We can store all these data types in a variable.\n",
    "\n",
    "x = 42\n",
    "shopping_list = [\"1 kg beef\", \"1 tetra pack of Joy\", \"toothpaste\"]\n",
    "\n",
    "type(x)"
   ]
  },
  {
   "cell_type": "code",
   "execution_count": 19,
   "metadata": {},
   "outputs": [
    {
     "data": {
      "text/plain": [
       "list"
      ]
     },
     "execution_count": 19,
     "metadata": {},
     "output_type": "execute_result"
    }
   ],
   "source": [
    "type(shopping_list)"
   ]
  },
  {
   "cell_type": "markdown",
   "metadata": {},
   "source": [
    "**Exercise:** create your own list and store it in a variable (your name).\n",
    "\n",
    "## Python Operations\n",
    "\n",
    "### Common Mathematical Operations"
   ]
  },
  {
   "cell_type": "code",
   "execution_count": 1,
   "metadata": {},
   "outputs": [
    {
     "data": {
      "text/plain": [
       "2"
      ]
     },
     "execution_count": 1,
     "metadata": {},
     "output_type": "execute_result"
    }
   ],
   "source": [
    "1+1"
   ]
  },
  {
   "cell_type": "code",
   "execution_count": 20,
   "metadata": {},
   "outputs": [
    {
     "data": {
      "text/plain": [
       "35"
      ]
     },
     "execution_count": 20,
     "metadata": {},
     "output_type": "execute_result"
    }
   ],
   "source": [
    "2020-1985"
   ]
  },
  {
   "cell_type": "code",
   "execution_count": 3,
   "metadata": {},
   "outputs": [
    {
     "data": {
      "text/plain": [
       "529"
      ]
     },
     "execution_count": 3,
     "metadata": {},
     "output_type": "execute_result"
    }
   ],
   "source": [
    "23*23"
   ]
  },
  {
   "cell_type": "code",
   "execution_count": 25,
   "metadata": {},
   "outputs": [
    {
     "data": {
      "text/plain": [
       "7.0"
      ]
     },
     "execution_count": 25,
     "metadata": {},
     "output_type": "execute_result"
    }
   ],
   "source": [
    "49/7    # Notice how both numerator and denominator are both int but outputs a float"
   ]
  },
  {
   "cell_type": "code",
   "execution_count": 22,
   "metadata": {},
   "outputs": [
    {
     "data": {
      "text/plain": [
       "3"
      ]
     },
     "execution_count": 22,
     "metadata": {},
     "output_type": "execute_result"
    }
   ],
   "source": [
    "23//7   # returns int type"
   ]
  },
  {
   "cell_type": "code",
   "execution_count": 26,
   "metadata": {},
   "outputs": [
    {
     "data": {
      "text/plain": [
       "8"
      ]
     },
     "execution_count": 26,
     "metadata": {},
     "output_type": "execute_result"
    }
   ],
   "source": [
    "2**3    # Exponent"
   ]
  },
  {
   "cell_type": "code",
   "execution_count": 29,
   "metadata": {},
   "outputs": [
    {
     "data": {
      "text/plain": [
       "2"
      ]
     },
     "execution_count": 29,
     "metadata": {},
     "output_type": "execute_result"
    }
   ],
   "source": [
    "23%7"
   ]
  },
  {
   "cell_type": "code",
   "execution_count": 2,
   "metadata": {},
   "outputs": [
    {
     "data": {
      "text/plain": [
       "'Marvin Pogi'"
      ]
     },
     "execution_count": 2,
     "metadata": {},
     "output_type": "execute_result"
    }
   ],
   "source": [
    "\"Marvin\" + \" Pogi\" # Concatenate String"
   ]
  },
  {
   "cell_type": "code",
   "execution_count": 3,
   "metadata": {},
   "outputs": [
    {
     "data": {
      "text/plain": [
       "[1, 2, 3, 'Marvin', 'Hey Jude']"
      ]
     },
     "execution_count": 3,
     "metadata": {},
     "output_type": "execute_result"
    }
   ],
   "source": [
    "[1, 2, 3] + [\"Marvin\", \"Hey Jude\"] # Combining two lists"
   ]
  },
  {
   "cell_type": "code",
   "execution_count": 31,
   "metadata": {},
   "outputs": [
    {
     "data": {
      "text/plain": [
       "(1, 2, 3, 4, 5, 6)"
      ]
     },
     "execution_count": 31,
     "metadata": {},
     "output_type": "execute_result"
    }
   ],
   "source": [
    "(1,2,3) + (4,5,6) #Combining tuples"
   ]
  },
  {
   "cell_type": "markdown",
   "metadata": {},
   "source": [
    "### Boolean Operations"
   ]
  },
  {
   "cell_type": "code",
   "execution_count": 43,
   "metadata": {},
   "outputs": [
    {
     "data": {
      "text/plain": [
       "True"
      ]
     },
     "execution_count": 43,
     "metadata": {},
     "output_type": "execute_result"
    }
   ],
   "source": [
    "1 == 1"
   ]
  },
  {
   "cell_type": "code",
   "execution_count": 42,
   "metadata": {},
   "outputs": [
    {
     "name": "stderr",
     "output_type": "stream",
     "text": [
      "<>:1: SyntaxWarning: \"is\" with a literal. Did you mean \"==\"?\n",
      "<>:1: SyntaxWarning: \"is\" with a literal. Did you mean \"==\"?\n",
      "<ipython-input-42-c4ba21148a2b>:1: SyntaxWarning: \"is\" with a literal. Did you mean \"==\"?\n",
      "  1 is 1\n"
     ]
    },
    {
     "data": {
      "text/plain": [
       "True"
      ]
     },
     "execution_count": 42,
     "metadata": {},
     "output_type": "execute_result"
    }
   ],
   "source": [
    "1 is 1"
   ]
  },
  {
   "cell_type": "code",
   "execution_count": 4,
   "metadata": {},
   "outputs": [
    {
     "data": {
      "text/plain": [
       "False"
      ]
     },
     "execution_count": 4,
     "metadata": {},
     "output_type": "execute_result"
    }
   ],
   "source": [
    "42 == \"42\""
   ]
  },
  {
   "cell_type": "code",
   "execution_count": 45,
   "metadata": {},
   "outputs": [
    {
     "data": {
      "text/plain": [
       "True"
      ]
     },
     "execution_count": 45,
     "metadata": {},
     "output_type": "execute_result"
    }
   ],
   "source": [
    "42 == 42.0"
   ]
  },
  {
   "cell_type": "code",
   "execution_count": 46,
   "metadata": {},
   "outputs": [
    {
     "data": {
      "text/plain": [
       "True"
      ]
     },
     "execution_count": 46,
     "metadata": {},
     "output_type": "execute_result"
    }
   ],
   "source": [
    "\"beans\" in [\"jack\", \"beans\", \"stalk\"]"
   ]
  },
  {
   "cell_type": "code",
   "execution_count": 47,
   "metadata": {},
   "outputs": [
    {
     "data": {
      "text/plain": [
       "False"
      ]
     },
     "execution_count": 47,
     "metadata": {},
     "output_type": "execute_result"
    }
   ],
   "source": [
    "\"beans\" in [\"jack\", \"and\", \"the\", \"beanstalk\"]"
   ]
  },
  {
   "cell_type": "code",
   "execution_count": 48,
   "metadata": {},
   "outputs": [
    {
     "data": {
      "text/plain": [
       "True"
      ]
     },
     "execution_count": 48,
     "metadata": {},
     "output_type": "execute_result"
    }
   ],
   "source": [
    "\"Marvin\" in \"Marvin is genius.\""
   ]
  },
  {
   "cell_type": "markdown",
   "metadata": {},
   "source": [
    "### Accessing data types (Indexing)"
   ]
  },
  {
   "cell_type": "code",
   "execution_count": 61,
   "metadata": {},
   "outputs": [
    {
     "data": {
      "text/plain": [
       "'Basketball'"
      ]
     },
     "execution_count": 61,
     "metadata": {},
     "output_type": "execute_result"
    }
   ],
   "source": [
    "sports = [\"Basketball\", \"Football\", \"League of Legends\", \"Tennis\", \"Golf\"]\n",
    "\n",
    "sports[0]"
   ]
  },
  {
   "cell_type": "code",
   "execution_count": 63,
   "metadata": {},
   "outputs": [
    {
     "data": {
      "text/plain": [
       "'Golf'"
      ]
     },
     "execution_count": 63,
     "metadata": {},
     "output_type": "execute_result"
    }
   ],
   "source": [
    "sports[-1]"
   ]
  },
  {
   "cell_type": "code",
   "execution_count": 64,
   "metadata": {},
   "outputs": [
    {
     "data": {
      "text/plain": [
       "['Football', 'League of Legends']"
      ]
     },
     "execution_count": 64,
     "metadata": {},
     "output_type": "execute_result"
    }
   ],
   "source": [
    "sports[1:3]"
   ]
  },
  {
   "cell_type": "code",
   "execution_count": 65,
   "metadata": {},
   "outputs": [
    {
     "data": {
      "text/plain": [
       "['League of Legends', 'Tennis']"
      ]
     },
     "execution_count": 65,
     "metadata": {},
     "output_type": "execute_result"
    }
   ],
   "source": [
    "sports[-3:-1]"
   ]
  },
  {
   "cell_type": "code",
   "execution_count": 17,
   "metadata": {},
   "outputs": [
    {
     "data": {
      "text/plain": [
       "'Marvin'"
      ]
     },
     "execution_count": 17,
     "metadata": {},
     "output_type": "execute_result"
    }
   ],
   "source": [
    "x = {\"name\": \"Marvin\", \"age\" : 18}\n",
    "\n",
    "x[\"name\"]"
   ]
  },
  {
   "cell_type": "code",
   "execution_count": 18,
   "metadata": {},
   "outputs": [
    {
     "data": {
      "text/plain": [
       "True"
      ]
     },
     "execution_count": 18,
     "metadata": {},
     "output_type": "execute_result"
    }
   ],
   "source": [
    "\"name\" in {\"name\": \"Marvin\", \"age\" : 18}"
   ]
  },
  {
   "cell_type": "markdown",
   "metadata": {},
   "source": [
    "## Basic Flow Control\n",
    "\n",
    "### Loops"
   ]
  },
  {
   "cell_type": "code",
   "execution_count": 84,
   "metadata": {},
   "outputs": [
    {
     "name": "stdout",
     "output_type": "stream",
     "text": [
      "ground beef\n",
      "spaghetti sauce\n",
      "tomato paste\n"
     ]
    }
   ],
   "source": [
    "shopping_list = [\"ground beef\", \"spaghetti sauce\", \"tomato paste\"]\n",
    "\n",
    "for i in shopping_list:\n",
    "    print(i)"
   ]
  },
  {
   "cell_type": "code",
   "execution_count": 39,
   "metadata": {},
   "outputs": [
    {
     "name": "stdout",
     "output_type": "stream",
     "text": [
      "42\n",
      "44\n",
      "46\n",
      "48\n",
      "50\n"
     ]
    }
   ],
   "source": [
    "x = 42\n",
    "\n",
    "while x <=50:\n",
    "    print(x)\n",
    "    x += 2"
   ]
  },
  {
   "cell_type": "code",
   "execution_count": 8,
   "metadata": {},
   "outputs": [
    {
     "name": "stdout",
     "output_type": "stream",
     "text": [
      "👏 Marvin 👏 is 👏 awesome 👏\n",
      "👏 Marvin 👏 is 👏 awesome 👏\n",
      "👏 Marvin 👏 is 👏 awesome 👏\n",
      "👏 Marvin 👏 is 👏 awesome 👏\n",
      "👏 Marvin 👏 is 👏 awesome 👏\n"
     ]
    }
   ],
   "source": [
    "for _ in range(5):\n",
    "    print(\"\\U0001F44F Marvin \\U0001F44F is \\U0001F44F awesome \\U0001F44F\")"
   ]
  },
  {
   "cell_type": "markdown",
   "metadata": {},
   "source": [
    "### If-else statement"
   ]
  },
  {
   "cell_type": "code",
   "execution_count": 10,
   "metadata": {},
   "outputs": [
    {
     "name": "stdout",
     "output_type": "stream",
     "text": [
      "Blossom is a PowerPuff Girl.\n",
      "Bubbles is a PowerPuff Girl.\n",
      "Buttercup is a PowerPuff Girl.\n",
      "Prof. Utonium is a supporting character.\n",
      "Mojo Jojo is a villain.\n"
     ]
    }
   ],
   "source": [
    "ppg = [\"Blossom\", \"Bubbles\", \"Buttercup\", \"Prof. Utonium\", \"Mojo Jojo\"]\n",
    "\n",
    "for character in ppg:\n",
    "    if character[0] == 'B':\n",
    "        print(character + \" is a PowerPuff Girl.\")\n",
    "    elif character == \"Mojo Jojo\":\n",
    "        print(character + \" is a villain.\")\n",
    "    else:\n",
    "        print(character + \" is a supporting character.\")"
   ]
  },
  {
   "cell_type": "markdown",
   "metadata": {},
   "source": [
    "## List Comprehension"
   ]
  },
  {
   "cell_type": "code",
   "execution_count": 15,
   "metadata": {},
   "outputs": [
    {
     "name": "stdout",
     "output_type": "stream",
     "text": [
      "Blossom is a PowerPuff\n",
      "Bubbles is a PowerPuff\n",
      "Buttercup is a PowerPuff\n"
     ]
    },
    {
     "data": {
      "text/plain": [
       "[None, None, None]"
      ]
     },
     "execution_count": 15,
     "metadata": {},
     "output_type": "execute_result"
    }
   ],
   "source": [
    "[print(character + \" is a PowerPuff\") for character in ppg if character[0] == 'B']"
   ]
  },
  {
   "cell_type": "markdown",
   "metadata": {},
   "source": [
    "## Importing libraries\n",
    "\n",
    "In this section, we will look at different ways to import a built-in library called `math`.\n",
    "\n",
    "The `math` library contains a constant for the value of pi. Our goal is to get this value from the library. "
   ]
  },
  {
   "cell_type": "code",
   "execution_count": 65,
   "metadata": {},
   "outputs": [
    {
     "ename": "NameError",
     "evalue": "name 'pi' is not defined",
     "output_type": "error",
     "traceback": [
      "\u001b[1;31m---------------------------------------------------------------------------\u001b[0m",
      "\u001b[1;31mNameError\u001b[0m                                 Traceback (most recent call last)",
      "\u001b[1;32m<ipython-input-65-6dea65be15ce>\u001b[0m in \u001b[0;36m<module>\u001b[1;34m\u001b[0m\n\u001b[0;32m      1\u001b[0m \u001b[1;32mimport\u001b[0m \u001b[0mmath\u001b[0m\u001b[1;33m\u001b[0m\u001b[1;33m\u001b[0m\u001b[0m\n\u001b[0;32m      2\u001b[0m \u001b[1;33m\u001b[0m\u001b[0m\n\u001b[1;32m----> 3\u001b[1;33m \u001b[0mpi\u001b[0m\u001b[1;33m\u001b[0m\u001b[1;33m\u001b[0m\u001b[0m\n\u001b[0m",
      "\u001b[1;31mNameError\u001b[0m: name 'pi' is not defined"
     ]
    }
   ],
   "source": [
    "import math\n",
    "\n",
    "pi #NameError: name 'pi' is not defined."
   ]
  },
  {
   "cell_type": "code",
   "execution_count": 66,
   "metadata": {},
   "outputs": [
    {
     "data": {
      "text/plain": [
       "3.141592653589793"
      ]
     },
     "execution_count": 66,
     "metadata": {},
     "output_type": "execute_result"
    }
   ],
   "source": [
    "math.pi"
   ]
  },
  {
   "cell_type": "code",
   "execution_count": 67,
   "metadata": {},
   "outputs": [
    {
     "data": {
      "text/plain": [
       "3.141592653589793"
      ]
     },
     "execution_count": 67,
     "metadata": {},
     "output_type": "execute_result"
    }
   ],
   "source": [
    "from math import pi\n",
    "\n",
    "pi"
   ]
  },
  {
   "cell_type": "code",
   "execution_count": 68,
   "metadata": {},
   "outputs": [
    {
     "data": {
      "text/plain": [
       "3.141592653589793"
      ]
     },
     "execution_count": 68,
     "metadata": {},
     "output_type": "execute_result"
    }
   ],
   "source": [
    "import math as m\n",
    "\n",
    "m.pi"
   ]
  },
  {
   "cell_type": "markdown",
   "metadata": {},
   "source": [
    "## Other Resources\n",
    "\n",
    "This should pretty much cover the Python basics needed to explore `pandas`.\n",
    "\n",
    "If you feel like it isn't enough, or if you want to explore more of Python, check out my personal recommendations:\n",
    "\n",
    "- Official Python [Guide](https://wiki.python.org/moin/BeginnersGuide) and [Documentation](https://docs.python.org/3/)\n",
    "- [Automate The Boring Stuff by Al Steigwart](http://automatetheboringstuff.com/)\n",
    "- [r/LearnPython Community](https://reddit.com/r/learnpython)\n",
    "- HackerRank and Leetcode\n",
    "\n",
    "## Introduction to pandas\n",
    "\n",
    "We know pandas is successfully installed when we don't get a `ModuleNotFoundError` when we type in:\n",
    "\n",
    "    >> import pandas as pd\n",
    "\n",
    "[See Installation Help](#Installation-Help)\n",
    "\n",
    "### Why pandas? according to their website\n",
    "\n",
    "- Easy handling of missing data (NaN)\n",
    "- Data can be reshaped, even to higher dimensions!\n",
    "- Objects can be explicitly aligned to a set of labels, or the user can simply ignore the labels.\n",
    "- Powerful, flexible `group by` functionality to perform split-apply-combine operations on data sets, for both aggregating and transforming data\n",
    "- Make it easy to convert ragged, differently-indexed data in other Python and NumPy data structures into DataFrame objects\n",
    "- Intelligent label-based slicing, fancy indexing, and subsetting of large data sets\n",
    "- Intuitive merging and joining data sets\n",
    "- Flexible reshaping and pivoting of data sets\n",
    "- Hierarchical labeling of axes (possible to have multiple labels per tick)\n",
    "- Robust IO tools for loading data from flat files (CSV and delimited), Excel files, databases, and saving / loading data from the ultrafast HDF5 format\n",
    "- Time series-specific functionality\n",
    "\n",
    "### Why pandas? according to me\n",
    "\n",
    "**pandas is NOT an Excel replacement!**\n",
    "\n",
    "It is an ETL tool. If anything, it complements Excel.\n",
    "\n",
    "By putting `pandas` in your pipeline, you are incorporating powerful Python arsenal in the process.\n",
    "\n",
    "Excel is good at:\n",
    "\n",
    "- Displaying data. Excel has GUI and scrolling is a valuable feature.\n",
    "- Preparing reports. An Excel file is an all-in-one tool that is readily available for anyone who has Excel installed.\n",
    "- Widely used. Your report is as good as there are people who can review it.\n",
    "\n",
    "Things pandas can improve upon:\n",
    "- Cleaning data (\"Marvin¶\", \"10/11/2020\")\n",
    "- Much more efficient merging and reshaping of data.\n",
    "- Comes with Python, can be paired with other libraries.\n",
    "- Database support (SQL)"
   ]
  },
  {
   "cell_type": "markdown",
   "metadata": {},
   "source": [
    "## pandas DataFrames"
   ]
  },
  {
   "cell_type": "code",
   "execution_count": 46,
   "metadata": {},
   "outputs": [
    {
     "data": {
      "image/jpeg": "[encoded data removed]",
      "text/plain": [
       "<IPython.core.display.Image object>"
      ]
     },
     "execution_count": 46,
     "metadata": {},
     "output_type": "execute_result"
    }
   ],
   "source": [
    "from IPython.display import Image\n",
    "Image(\"img/sample_dataframe.jpg\")"
   ]
  },
  {
   "cell_type": "code",
   "execution_count": 22,
   "metadata": {},
   "outputs": [
    {
     "data": {
      "image/jpeg": "[encoded data removed]",
      "text/plain": [
       "<IPython.core.display.Image object>"
      ]
     },
     "execution_count": 22,
     "metadata": {},
     "output_type": "execute_result"
    }
   ],
   "source": [
    "Image(\"img/sample_series.jpg\")"
   ]
  },
  {
   "cell_type": "code",
   "execution_count": 24,
   "metadata": {},
   "outputs": [
    {
     "data": {
      "image/jpeg": "[encoded data removed]",
      "text/plain": [
       "<IPython.core.display.Image object>"
      ]
     },
     "execution_count": 24,
     "metadata": {},
     "output_type": "execute_result"
    }
   ],
   "source": [
    "Image(\"img/pandas_etl.jpg\")"
   ]
  },
  {
   "cell_type": "markdown",
   "metadata": {},
   "source": [
    "## Creating and viewing a pandas Dataframe"
   ]
  },
  {
   "cell_type": "code",
   "execution_count": 16,
   "metadata": {},
   "outputs": [
    {
     "data": {
      "text/plain": [
       "'Here we can see the values that were contained in the list.\\nWe can also see the rows and columns indices (starts at 0).'"
      ]
     },
     "execution_count": 16,
     "metadata": {},
     "output_type": "execute_result"
    }
   ],
   "source": [
    "import pandas as pd\n",
    "\n",
    "#Creating a DataFrame from a Python list\n",
    "\n",
    "shopping_list = [\"ground beef\", \"spaghetti sauce\", \"tomato paste\"]\n",
    "\n",
    "df1 = pd.DataFrame(shopping_list)\n",
    "\n",
    "df1\n",
    "\n",
    "'''Here we can see the values that were contained in the list.\n",
    "We can also see the rows and columns indices (starts at 0).'''"
   ]
  },
  {
   "cell_type": "code",
   "execution_count": 17,
   "metadata": {
    "scrolled": true
   },
   "outputs": [
    {
     "data": {
      "text/html": [
       "<div>\n",
       "<style scoped>\n",
       "    .dataframe tbody tr th:only-of-type {\n",
       "        vertical-align: middle;\n",
       "    }\n",
       "\n",
       "    .dataframe tbody tr th {\n",
       "        vertical-align: top;\n",
       "    }\n",
       "\n",
       "    .dataframe thead th {\n",
       "        text-align: right;\n",
       "    }\n",
       "</style>\n",
       "<table border=\"1\" class=\"dataframe\">\n",
       "  <thead>\n",
       "    <tr style=\"text-align: right;\">\n",
       "      <th></th>\n",
       "      <th>0</th>\n",
       "      <th>1</th>\n",
       "      <th>2</th>\n",
       "    </tr>\n",
       "  </thead>\n",
       "  <tbody>\n",
       "    <tr>\n",
       "      <th>0</th>\n",
       "      <td>ground beef</td>\n",
       "      <td>spaghetti sauce</td>\n",
       "      <td>tomato paste</td>\n",
       "    </tr>\n",
       "    <tr>\n",
       "      <th>1</th>\n",
       "      <td>24.5</td>\n",
       "      <td>10</td>\n",
       "      <td>53</td>\n",
       "    </tr>\n",
       "  </tbody>\n",
       "</table>\n",
       "</div>"
      ],
      "text/plain": [
       "             0                1             2\n",
       "0  ground beef  spaghetti sauce  tomato paste\n",
       "1         24.5               10            53"
      ]
     },
     "execution_count": 17,
     "metadata": {},
     "output_type": "execute_result"
    }
   ],
   "source": [
    "prices = [ 24.5, 10, 53]\n",
    "\n",
    "df2 = pd.DataFrame([shopping_list, prices])\n",
    "\n",
    "df2.head() # The .head() method shows the first 5 rows of the DataFrame"
   ]
  },
  {
   "cell_type": "code",
   "execution_count": 18,
   "metadata": {},
   "outputs": [
    {
     "data": {
      "text/html": [
       "<div>\n",
       "<style scoped>\n",
       "    .dataframe tbody tr th:only-of-type {\n",
       "        vertical-align: middle;\n",
       "    }\n",
       "\n",
       "    .dataframe tbody tr th {\n",
       "        vertical-align: top;\n",
       "    }\n",
       "\n",
       "    .dataframe thead th {\n",
       "        text-align: right;\n",
       "    }\n",
       "</style>\n",
       "<table border=\"1\" class=\"dataframe\">\n",
       "  <thead>\n",
       "    <tr style=\"text-align: right;\">\n",
       "      <th></th>\n",
       "      <th>A</th>\n",
       "      <th>B</th>\n",
       "    </tr>\n",
       "  </thead>\n",
       "  <tbody>\n",
       "    <tr>\n",
       "      <th>0</th>\n",
       "      <td>ground beef</td>\n",
       "      <td>24.5</td>\n",
       "    </tr>\n",
       "    <tr>\n",
       "      <th>1</th>\n",
       "      <td>spaghetti sauce</td>\n",
       "      <td>10.0</td>\n",
       "    </tr>\n",
       "    <tr>\n",
       "      <th>2</th>\n",
       "      <td>tomato paste</td>\n",
       "      <td>53.0</td>\n",
       "    </tr>\n",
       "  </tbody>\n",
       "</table>\n",
       "</div>"
      ],
      "text/plain": [
       "                 A     B\n",
       "0      ground beef  24.5\n",
       "1  spaghetti sauce  10.0\n",
       "2     tomato paste  53.0"
      ]
     },
     "execution_count": 18,
     "metadata": {},
     "output_type": "execute_result"
    }
   ],
   "source": [
    "df3 = pd.DataFrame({\n",
    "                    'A': shopping_list,\n",
    "                    'B': prices\n",
    "                    })\n",
    "\n",
    "df3.tail() # The .tail() method shows the last 5 rows of the DataFrame"
   ]
  },
  {
   "cell_type": "code",
   "execution_count": 19,
   "metadata": {},
   "outputs": [
    {
     "data": {
      "text/plain": [
       "0        ground beef\n",
       "1    spaghetti sauce\n",
       "2       tomato paste\n",
       "Name: A, dtype: object"
      ]
     },
     "execution_count": 19,
     "metadata": {},
     "output_type": "execute_result"
    }
   ],
   "source": [
    "df3['A'] #Get Column 'A' from df3"
   ]
  },
  {
   "cell_type": "markdown",
   "metadata": {},
   "source": [
    "## DataFrame columns and Rows"
   ]
  },
  {
   "cell_type": "code",
   "execution_count": 30,
   "metadata": {},
   "outputs": [
    {
     "data": {
      "text/plain": [
       "A    ground beef\n",
       "B           24.5\n",
       "Name: 0, dtype: object"
      ]
     },
     "execution_count": 30,
     "metadata": {},
     "output_type": "execute_result"
    }
   ],
   "source": [
    "df3.loc[0] #Get Row '1' from df3"
   ]
  },
  {
   "cell_type": "code",
   "execution_count": 31,
   "metadata": {
    "scrolled": true
   },
   "outputs": [
    {
     "data": {
      "text/plain": [
       "RangeIndex(start=0, stop=3, step=1)"
      ]
     },
     "execution_count": 31,
     "metadata": {},
     "output_type": "execute_result"
    }
   ],
   "source": [
    "df3.index #no parenthesis"
   ]
  },
  {
   "cell_type": "code",
   "execution_count": 32,
   "metadata": {},
   "outputs": [
    {
     "data": {
      "text/plain": [
       "Index(['A', 'B'], dtype='object')"
      ]
     },
     "execution_count": 32,
     "metadata": {},
     "output_type": "execute_result"
    }
   ],
   "source": [
    "df3.columns"
   ]
  },
  {
   "cell_type": "code",
   "execution_count": 34,
   "metadata": {},
   "outputs": [
    {
     "data": {
      "text/html": [
       "<div>\n",
       "<style scoped>\n",
       "    .dataframe tbody tr th:only-of-type {\n",
       "        vertical-align: middle;\n",
       "    }\n",
       "\n",
       "    .dataframe tbody tr th {\n",
       "        vertical-align: top;\n",
       "    }\n",
       "\n",
       "    .dataframe thead th {\n",
       "        text-align: right;\n",
       "    }\n",
       "</style>\n",
       "<table border=\"1\" class=\"dataframe\">\n",
       "  <thead>\n",
       "    <tr style=\"text-align: right;\">\n",
       "      <th></th>\n",
       "      <th>Items</th>\n",
       "      <th>Price</th>\n",
       "    </tr>\n",
       "  </thead>\n",
       "  <tbody>\n",
       "    <tr>\n",
       "      <th>1</th>\n",
       "      <td>ground beef</td>\n",
       "      <td>24.5</td>\n",
       "    </tr>\n",
       "    <tr>\n",
       "      <th>2</th>\n",
       "      <td>spaghetti sauce</td>\n",
       "      <td>10.0</td>\n",
       "    </tr>\n",
       "    <tr>\n",
       "      <th>3</th>\n",
       "      <td>tomato paste</td>\n",
       "      <td>53.0</td>\n",
       "    </tr>\n",
       "  </tbody>\n",
       "</table>\n",
       "</div>"
      ],
      "text/plain": [
       "             Items  Price\n",
       "1      ground beef   24.5\n",
       "2  spaghetti sauce   10.0\n",
       "3     tomato paste   53.0"
      ]
     },
     "execution_count": 34,
     "metadata": {},
     "output_type": "execute_result"
    }
   ],
   "source": [
    "#Defining own columns and rows\n",
    "\n",
    "df4 = pd.DataFrame({\n",
    "                    'Items': shopping_list,\n",
    "                    'Price': prices\n",
    "                    },\n",
    "\n",
    "                    index = [1, 2, 3]) #Removing zero-index because I am more comfy w/ Excel :)\n",
    "\n",
    "df4.head()"
   ]
  },
  {
   "cell_type": "code",
   "execution_count": 35,
   "metadata": {},
   "outputs": [
    {
     "data": {
      "text/plain": [
       "1        ground beef\n",
       "2    spaghetti sauce\n",
       "3       tomato paste\n",
       "Name: Items, dtype: object"
      ]
     },
     "execution_count": 35,
     "metadata": {},
     "output_type": "execute_result"
    }
   ],
   "source": [
    "df4['Items']"
   ]
  },
  {
   "cell_type": "markdown",
   "metadata": {},
   "source": [
    "## Selecting Data from a DataFrame\n",
    "\n",
    "Let's create a DataFrame called `stock_prices`."
   ]
  },
  {
   "cell_type": "code",
   "execution_count": 36,
   "metadata": {},
   "outputs": [
    {
     "data": {
      "text/plain": [
       "DatetimeIndex(['2020-09-01', '2020-09-02', '2020-09-03', '2020-09-04',\n",
       "               '2020-09-05', '2020-09-06', '2020-09-07', '2020-09-08',\n",
       "               '2020-09-09', '2020-09-10'],\n",
       "              dtype='datetime64[ns]', freq='D')"
      ]
     },
     "execution_count": 36,
     "metadata": {},
     "output_type": "execute_result"
    }
   ],
   "source": [
    "#Create sample timestamps\n",
    "\n",
    "dates = pd.date_range('20200901', periods=10)\n",
    "\n",
    "dates"
   ]
  },
  {
   "cell_type": "code",
   "execution_count": 37,
   "metadata": {},
   "outputs": [
    {
     "data": {
      "text/plain": [
       "2020-09-01    21.0\n",
       "2020-09-02    23.0\n",
       "2020-09-03    24.0\n",
       "2020-09-04    23.5\n",
       "2020-09-05    23.3\n",
       "2020-09-06    22.0\n",
       "2020-09-07    22.5\n",
       "2020-09-08    21.3\n",
       "2020-09-09    22.2\n",
       "2020-09-10    23.0\n",
       "Freq: D, dtype: float64"
      ]
     },
     "execution_count": 37,
     "metadata": {},
     "output_type": "execute_result"
    }
   ],
   "source": [
    "#Create sample stock prices\n",
    "\n",
    "p = pd.Series([21.0, 23.0, 24.0, 23.5, 23.3,\n",
    "               22.0, 22.5, 21.3, 22.2, 23.0 ], index=dates)\n",
    "\n",
    "p"
   ]
  },
  {
   "cell_type": "code",
   "execution_count": 38,
   "metadata": {},
   "outputs": [],
   "source": [
    "#Create name of the stock\n",
    "\n",
    "name = \"MRVN\""
   ]
  },
  {
   "cell_type": "code",
   "execution_count": 39,
   "metadata": {},
   "outputs": [
    {
     "data": {
      "text/html": [
       "<div>\n",
       "<style scoped>\n",
       "    .dataframe tbody tr th:only-of-type {\n",
       "        vertical-align: middle;\n",
       "    }\n",
       "\n",
       "    .dataframe tbody tr th {\n",
       "        vertical-align: top;\n",
       "    }\n",
       "\n",
       "    .dataframe thead th {\n",
       "        text-align: right;\n",
       "    }\n",
       "</style>\n",
       "<table border=\"1\" class=\"dataframe\">\n",
       "  <thead>\n",
       "    <tr style=\"text-align: right;\">\n",
       "      <th></th>\n",
       "      <th>Stock Name</th>\n",
       "      <th>Stock Price</th>\n",
       "    </tr>\n",
       "  </thead>\n",
       "  <tbody>\n",
       "    <tr>\n",
       "      <th>2020-09-01</th>\n",
       "      <td>MRVN</td>\n",
       "      <td>21.0</td>\n",
       "    </tr>\n",
       "    <tr>\n",
       "      <th>2020-09-02</th>\n",
       "      <td>MRVN</td>\n",
       "      <td>23.0</td>\n",
       "    </tr>\n",
       "    <tr>\n",
       "      <th>2020-09-03</th>\n",
       "      <td>MRVN</td>\n",
       "      <td>24.0</td>\n",
       "    </tr>\n",
       "    <tr>\n",
       "      <th>2020-09-04</th>\n",
       "      <td>MRVN</td>\n",
       "      <td>23.5</td>\n",
       "    </tr>\n",
       "    <tr>\n",
       "      <th>2020-09-05</th>\n",
       "      <td>MRVN</td>\n",
       "      <td>23.3</td>\n",
       "    </tr>\n",
       "    <tr>\n",
       "      <th>2020-09-06</th>\n",
       "      <td>MRVN</td>\n",
       "      <td>22.0</td>\n",
       "    </tr>\n",
       "    <tr>\n",
       "      <th>2020-09-07</th>\n",
       "      <td>MRVN</td>\n",
       "      <td>22.5</td>\n",
       "    </tr>\n",
       "    <tr>\n",
       "      <th>2020-09-08</th>\n",
       "      <td>MRVN</td>\n",
       "      <td>21.3</td>\n",
       "    </tr>\n",
       "    <tr>\n",
       "      <th>2020-09-09</th>\n",
       "      <td>MRVN</td>\n",
       "      <td>22.2</td>\n",
       "    </tr>\n",
       "    <tr>\n",
       "      <th>2020-09-10</th>\n",
       "      <td>MRVN</td>\n",
       "      <td>23.0</td>\n",
       "    </tr>\n",
       "  </tbody>\n",
       "</table>\n",
       "</div>"
      ],
      "text/plain": [
       "           Stock Name  Stock Price\n",
       "2020-09-01       MRVN         21.0\n",
       "2020-09-02       MRVN         23.0\n",
       "2020-09-03       MRVN         24.0\n",
       "2020-09-04       MRVN         23.5\n",
       "2020-09-05       MRVN         23.3\n",
       "2020-09-06       MRVN         22.0\n",
       "2020-09-07       MRVN         22.5\n",
       "2020-09-08       MRVN         21.3\n",
       "2020-09-09       MRVN         22.2\n",
       "2020-09-10       MRVN         23.0"
      ]
     },
     "execution_count": 39,
     "metadata": {},
     "output_type": "execute_result"
    }
   ],
   "source": [
    "#Create DataFrame\n",
    "\n",
    "stock_price = pd.DataFrame({'Stock Name': pd.Series(name, index=dates),\n",
    "                            'Stock Price': p\n",
    "                            }, index = dates)\n",
    "\n",
    "stock_price"
   ]
  },
  {
   "cell_type": "markdown",
   "metadata": {},
   "source": [
    "### Selection using Indices"
   ]
  },
  {
   "cell_type": "code",
   "execution_count": 40,
   "metadata": {},
   "outputs": [
    {
     "data": {
      "text/html": [
       "<div>\n",
       "<style scoped>\n",
       "    .dataframe tbody tr th:only-of-type {\n",
       "        vertical-align: middle;\n",
       "    }\n",
       "\n",
       "    .dataframe tbody tr th {\n",
       "        vertical-align: top;\n",
       "    }\n",
       "\n",
       "    .dataframe thead th {\n",
       "        text-align: right;\n",
       "    }\n",
       "</style>\n",
       "<table border=\"1\" class=\"dataframe\">\n",
       "  <thead>\n",
       "    <tr style=\"text-align: right;\">\n",
       "      <th></th>\n",
       "      <th>Stock Name</th>\n",
       "      <th>Stock Price</th>\n",
       "    </tr>\n",
       "  </thead>\n",
       "  <tbody>\n",
       "    <tr>\n",
       "      <th>2020-09-02</th>\n",
       "      <td>MRVN</td>\n",
       "      <td>23.0</td>\n",
       "    </tr>\n",
       "    <tr>\n",
       "      <th>2020-09-03</th>\n",
       "      <td>MRVN</td>\n",
       "      <td>24.0</td>\n",
       "    </tr>\n",
       "  </tbody>\n",
       "</table>\n",
       "</div>"
      ],
      "text/plain": [
       "           Stock Name  Stock Price\n",
       "2020-09-02       MRVN         23.0\n",
       "2020-09-03       MRVN         24.0"
      ]
     },
     "execution_count": 40,
     "metadata": {},
     "output_type": "execute_result"
    }
   ],
   "source": [
    "stock_price[1:3] #Use default indexes to select specific layers"
   ]
  },
  {
   "cell_type": "code",
   "execution_count": 41,
   "metadata": {},
   "outputs": [
    {
     "data": {
      "text/html": [
       "<div>\n",
       "<style scoped>\n",
       "    .dataframe tbody tr th:only-of-type {\n",
       "        vertical-align: middle;\n",
       "    }\n",
       "\n",
       "    .dataframe tbody tr th {\n",
       "        vertical-align: top;\n",
       "    }\n",
       "\n",
       "    .dataframe thead th {\n",
       "        text-align: right;\n",
       "    }\n",
       "</style>\n",
       "<table border=\"1\" class=\"dataframe\">\n",
       "  <thead>\n",
       "    <tr style=\"text-align: right;\">\n",
       "      <th></th>\n",
       "      <th>Stock Name</th>\n",
       "    </tr>\n",
       "  </thead>\n",
       "  <tbody>\n",
       "    <tr>\n",
       "      <th>2020-09-03</th>\n",
       "      <td>MRVN</td>\n",
       "    </tr>\n",
       "    <tr>\n",
       "      <th>2020-09-04</th>\n",
       "      <td>MRVN</td>\n",
       "    </tr>\n",
       "    <tr>\n",
       "      <th>2020-09-05</th>\n",
       "      <td>MRVN</td>\n",
       "    </tr>\n",
       "    <tr>\n",
       "      <th>2020-09-06</th>\n",
       "      <td>MRVN</td>\n",
       "    </tr>\n",
       "  </tbody>\n",
       "</table>\n",
       "</div>"
      ],
      "text/plain": [
       "           Stock Name\n",
       "2020-09-03       MRVN\n",
       "2020-09-04       MRVN\n",
       "2020-09-05       MRVN\n",
       "2020-09-06       MRVN"
      ]
     },
     "execution_count": 41,
     "metadata": {},
     "output_type": "execute_result"
    }
   ],
   "source": [
    "stock_price.iloc[2:6, 0:1]"
   ]
  },
  {
   "cell_type": "markdown",
   "metadata": {},
   "source": [
    "### Selection using labels"
   ]
  },
  {
   "cell_type": "code",
   "execution_count": 42,
   "metadata": {},
   "outputs": [
    {
     "data": {
      "text/html": [
       "<div>\n",
       "<style scoped>\n",
       "    .dataframe tbody tr th:only-of-type {\n",
       "        vertical-align: middle;\n",
       "    }\n",
       "\n",
       "    .dataframe tbody tr th {\n",
       "        vertical-align: top;\n",
       "    }\n",
       "\n",
       "    .dataframe thead th {\n",
       "        text-align: right;\n",
       "    }\n",
       "</style>\n",
       "<table border=\"1\" class=\"dataframe\">\n",
       "  <thead>\n",
       "    <tr style=\"text-align: right;\">\n",
       "      <th></th>\n",
       "      <th>Stock Name</th>\n",
       "      <th>Stock Price</th>\n",
       "    </tr>\n",
       "  </thead>\n",
       "  <tbody>\n",
       "    <tr>\n",
       "      <th>2020-09-03</th>\n",
       "      <td>MRVN</td>\n",
       "      <td>24.0</td>\n",
       "    </tr>\n",
       "    <tr>\n",
       "      <th>2020-09-04</th>\n",
       "      <td>MRVN</td>\n",
       "      <td>23.5</td>\n",
       "    </tr>\n",
       "    <tr>\n",
       "      <th>2020-09-05</th>\n",
       "      <td>MRVN</td>\n",
       "      <td>23.3</td>\n",
       "    </tr>\n",
       "    <tr>\n",
       "      <th>2020-09-06</th>\n",
       "      <td>MRVN</td>\n",
       "      <td>22.0</td>\n",
       "    </tr>\n",
       "  </tbody>\n",
       "</table>\n",
       "</div>"
      ],
      "text/plain": [
       "           Stock Name  Stock Price\n",
       "2020-09-03       MRVN         24.0\n",
       "2020-09-04       MRVN         23.5\n",
       "2020-09-05       MRVN         23.3\n",
       "2020-09-06       MRVN         22.0"
      ]
     },
     "execution_count": 42,
     "metadata": {},
     "output_type": "execute_result"
    }
   ],
   "source": [
    "stock_price.loc[dates[2:6]] #also works if indexes are str\n",
    "                            #the idea is to select using labels"
   ]
  },
  {
   "cell_type": "code",
   "execution_count": 43,
   "metadata": {},
   "outputs": [
    {
     "data": {
      "text/html": [
       "<div>\n",
       "<style scoped>\n",
       "    .dataframe tbody tr th:only-of-type {\n",
       "        vertical-align: middle;\n",
       "    }\n",
       "\n",
       "    .dataframe tbody tr th {\n",
       "        vertical-align: top;\n",
       "    }\n",
       "\n",
       "    .dataframe thead th {\n",
       "        text-align: right;\n",
       "    }\n",
       "</style>\n",
       "<table border=\"1\" class=\"dataframe\">\n",
       "  <thead>\n",
       "    <tr style=\"text-align: right;\">\n",
       "      <th></th>\n",
       "      <th>Stock Price</th>\n",
       "    </tr>\n",
       "  </thead>\n",
       "  <tbody>\n",
       "    <tr>\n",
       "      <th>2020-09-01</th>\n",
       "      <td>21.0</td>\n",
       "    </tr>\n",
       "    <tr>\n",
       "      <th>2020-09-02</th>\n",
       "      <td>23.0</td>\n",
       "    </tr>\n",
       "    <tr>\n",
       "      <th>2020-09-03</th>\n",
       "      <td>24.0</td>\n",
       "    </tr>\n",
       "    <tr>\n",
       "      <th>2020-09-04</th>\n",
       "      <td>23.5</td>\n",
       "    </tr>\n",
       "    <tr>\n",
       "      <th>2020-09-05</th>\n",
       "      <td>23.3</td>\n",
       "    </tr>\n",
       "    <tr>\n",
       "      <th>2020-09-06</th>\n",
       "      <td>22.0</td>\n",
       "    </tr>\n",
       "    <tr>\n",
       "      <th>2020-09-07</th>\n",
       "      <td>22.5</td>\n",
       "    </tr>\n",
       "    <tr>\n",
       "      <th>2020-09-08</th>\n",
       "      <td>21.3</td>\n",
       "    </tr>\n",
       "    <tr>\n",
       "      <th>2020-09-09</th>\n",
       "      <td>22.2</td>\n",
       "    </tr>\n",
       "    <tr>\n",
       "      <th>2020-09-10</th>\n",
       "      <td>23.0</td>\n",
       "    </tr>\n",
       "  </tbody>\n",
       "</table>\n",
       "</div>"
      ],
      "text/plain": [
       "            Stock Price\n",
       "2020-09-01         21.0\n",
       "2020-09-02         23.0\n",
       "2020-09-03         24.0\n",
       "2020-09-04         23.5\n",
       "2020-09-05         23.3\n",
       "2020-09-06         22.0\n",
       "2020-09-07         22.5\n",
       "2020-09-08         21.3\n",
       "2020-09-09         22.2\n",
       "2020-09-10         23.0"
      ]
     },
     "execution_count": 43,
     "metadata": {},
     "output_type": "execute_result"
    }
   ],
   "source": [
    "stock_price.loc[:, ['Stock Price']] #get only the 'Stock Price' column\n",
    "                                    #note that \":\" was used to denote ALL"
   ]
  },
  {
   "cell_type": "markdown",
   "metadata": {},
   "source": [
    "### Boolean Selection"
   ]
  },
  {
   "cell_type": "code",
   "execution_count": 44,
   "metadata": {},
   "outputs": [
    {
     "data": {
      "text/html": [
       "<div>\n",
       "<style scoped>\n",
       "    .dataframe tbody tr th:only-of-type {\n",
       "        vertical-align: middle;\n",
       "    }\n",
       "\n",
       "    .dataframe tbody tr th {\n",
       "        vertical-align: top;\n",
       "    }\n",
       "\n",
       "    .dataframe thead th {\n",
       "        text-align: right;\n",
       "    }\n",
       "</style>\n",
       "<table border=\"1\" class=\"dataframe\">\n",
       "  <thead>\n",
       "    <tr style=\"text-align: right;\">\n",
       "      <th></th>\n",
       "      <th>Stock Name</th>\n",
       "      <th>Stock Price</th>\n",
       "    </tr>\n",
       "  </thead>\n",
       "  <tbody>\n",
       "    <tr>\n",
       "      <th>2020-09-02</th>\n",
       "      <td>MRVN</td>\n",
       "      <td>23.0</td>\n",
       "    </tr>\n",
       "    <tr>\n",
       "      <th>2020-09-03</th>\n",
       "      <td>MRVN</td>\n",
       "      <td>24.0</td>\n",
       "    </tr>\n",
       "    <tr>\n",
       "      <th>2020-09-04</th>\n",
       "      <td>MRVN</td>\n",
       "      <td>23.5</td>\n",
       "    </tr>\n",
       "    <tr>\n",
       "      <th>2020-09-05</th>\n",
       "      <td>MRVN</td>\n",
       "      <td>23.3</td>\n",
       "    </tr>\n",
       "    <tr>\n",
       "      <th>2020-09-07</th>\n",
       "      <td>MRVN</td>\n",
       "      <td>22.5</td>\n",
       "    </tr>\n",
       "    <tr>\n",
       "      <th>2020-09-10</th>\n",
       "      <td>MRVN</td>\n",
       "      <td>23.0</td>\n",
       "    </tr>\n",
       "  </tbody>\n",
       "</table>\n",
       "</div>"
      ],
      "text/plain": [
       "           Stock Name  Stock Price\n",
       "2020-09-02       MRVN         23.0\n",
       "2020-09-03       MRVN         24.0\n",
       "2020-09-04       MRVN         23.5\n",
       "2020-09-05       MRVN         23.3\n",
       "2020-09-07       MRVN         22.5\n",
       "2020-09-10       MRVN         23.0"
      ]
     },
     "execution_count": 44,
     "metadata": {},
     "output_type": "execute_result"
    }
   ],
   "source": [
    "stock_price[stock_price['Stock Price']>=22.5]"
   ]
  },
  {
   "cell_type": "markdown",
   "metadata": {},
   "source": [
    "[*Return to top.*](#Table-of-Contents)\n",
    "\n",
    "## Merging DataFrames\n",
    "\n",
    "Goodbye, VLOOKUP!\n",
    "\n",
    "Suppose you have multiples DataFrames."
   ]
  },
  {
   "cell_type": "code",
   "execution_count": 92,
   "metadata": {},
   "outputs": [
    {
     "data": {
      "text/html": [
       "<div>\n",
       "<style scoped>\n",
       "    .dataframe tbody tr th:only-of-type {\n",
       "        vertical-align: middle;\n",
       "    }\n",
       "\n",
       "    .dataframe tbody tr th {\n",
       "        vertical-align: top;\n",
       "    }\n",
       "\n",
       "    .dataframe thead th {\n",
       "        text-align: right;\n",
       "    }\n",
       "</style>\n",
       "<table border=\"1\" class=\"dataframe\">\n",
       "  <thead>\n",
       "    <tr style=\"text-align: right;\">\n",
       "      <th></th>\n",
       "      <th>A</th>\n",
       "      <th>B</th>\n",
       "    </tr>\n",
       "  </thead>\n",
       "  <tbody>\n",
       "    <tr>\n",
       "      <th>0</th>\n",
       "      <td>Grab</td>\n",
       "      <td>200000</td>\n",
       "    </tr>\n",
       "    <tr>\n",
       "      <th>1</th>\n",
       "      <td>Uber</td>\n",
       "      <td>20000</td>\n",
       "    </tr>\n",
       "    <tr>\n",
       "      <th>2</th>\n",
       "      <td>Angkas</td>\n",
       "      <td>150000</td>\n",
       "    </tr>\n",
       "    <tr>\n",
       "      <th>3</th>\n",
       "      <td>Joyride</td>\n",
       "      <td>85000</td>\n",
       "    </tr>\n",
       "    <tr>\n",
       "      <th>4</th>\n",
       "      <td>Owto</td>\n",
       "      <td>60000</td>\n",
       "    </tr>\n",
       "  </tbody>\n",
       "</table>\n",
       "</div>"
      ],
      "text/plain": [
       "         A       B\n",
       "0     Grab  200000\n",
       "1     Uber   20000\n",
       "2   Angkas  150000\n",
       "3  Joyride   85000\n",
       "4     Owto   60000"
      ]
     },
     "execution_count": 92,
     "metadata": {},
     "output_type": "execute_result"
    }
   ],
   "source": [
    "assets = pd.DataFrame({'A': ['Grab', 'Uber', 'Angkas', 'Joyride', 'Owto'],\n",
    "                      'B': [200000, 20000, 150000, 85000, 60000]})\n",
    "\n",
    "assets"
   ]
  },
  {
   "cell_type": "code",
   "execution_count": 110,
   "metadata": {},
   "outputs": [
    {
     "data": {
      "text/html": [
       "<div>\n",
       "<style scoped>\n",
       "    .dataframe tbody tr th:only-of-type {\n",
       "        vertical-align: middle;\n",
       "    }\n",
       "\n",
       "    .dataframe tbody tr th {\n",
       "        vertical-align: top;\n",
       "    }\n",
       "\n",
       "    .dataframe thead th {\n",
       "        text-align: right;\n",
       "    }\n",
       "</style>\n",
       "<table border=\"1\" class=\"dataframe\">\n",
       "  <thead>\n",
       "    <tr style=\"text-align: right;\">\n",
       "      <th></th>\n",
       "      <th>A</th>\n",
       "      <th>B</th>\n",
       "    </tr>\n",
       "  </thead>\n",
       "  <tbody>\n",
       "    <tr>\n",
       "      <th>0</th>\n",
       "      <td>Grab</td>\n",
       "      <td>Yes</td>\n",
       "    </tr>\n",
       "    <tr>\n",
       "      <th>1</th>\n",
       "      <td>Angkas</td>\n",
       "      <td>Yes</td>\n",
       "    </tr>\n",
       "    <tr>\n",
       "      <th>2</th>\n",
       "      <td>Taxicabs</td>\n",
       "      <td>Yes</td>\n",
       "    </tr>\n",
       "  </tbody>\n",
       "</table>\n",
       "</div>"
      ],
      "text/plain": [
       "          A    B\n",
       "0      Grab  Yes\n",
       "1    Angkas  Yes\n",
       "2  Taxicabs  Yes"
      ]
     },
     "execution_count": 110,
     "metadata": {},
     "output_type": "execute_result"
    }
   ],
   "source": [
    "operating = pd.DataFrame({'A': ['Grab', 'Angkas', 'Taxicabs'],\n",
    "                          'B': ['Yes', 'Yes', 'Yes']})\n",
    "\n",
    "operating"
   ]
  },
  {
   "cell_type": "markdown",
   "metadata": {},
   "source": [
    "### Inner, Left and Right Join"
   ]
  },
  {
   "cell_type": "code",
   "execution_count": 108,
   "metadata": {},
   "outputs": [
    {
     "data": {
      "text/html": [
       "<div>\n",
       "<style scoped>\n",
       "    .dataframe tbody tr th:only-of-type {\n",
       "        vertical-align: middle;\n",
       "    }\n",
       "\n",
       "    .dataframe tbody tr th {\n",
       "        vertical-align: top;\n",
       "    }\n",
       "\n",
       "    .dataframe thead th {\n",
       "        text-align: right;\n",
       "    }\n",
       "</style>\n",
       "<table border=\"1\" class=\"dataframe\">\n",
       "  <thead>\n",
       "    <tr style=\"text-align: right;\">\n",
       "      <th></th>\n",
       "      <th>A</th>\n",
       "      <th>B_x</th>\n",
       "      <th>B_y</th>\n",
       "    </tr>\n",
       "  </thead>\n",
       "  <tbody>\n",
       "    <tr>\n",
       "      <th>0</th>\n",
       "      <td>Grab</td>\n",
       "      <td>200000</td>\n",
       "      <td>Yes</td>\n",
       "    </tr>\n",
       "    <tr>\n",
       "      <th>1</th>\n",
       "      <td>Angkas</td>\n",
       "      <td>150000</td>\n",
       "      <td>Yes</td>\n",
       "    </tr>\n",
       "  </tbody>\n",
       "</table>\n",
       "</div>"
      ],
      "text/plain": [
       "        A     B_x  B_y\n",
       "0    Grab  200000  Yes\n",
       "1  Angkas  150000  Yes"
      ]
     },
     "execution_count": 108,
     "metadata": {},
     "output_type": "execute_result"
    }
   ],
   "source": [
    "pd.merge(assets, operating, on='A') #inner join"
   ]
  },
  {
   "cell_type": "code",
   "execution_count": 106,
   "metadata": {},
   "outputs": [
    {
     "data": {
      "text/html": [
       "<div>\n",
       "<style scoped>\n",
       "    .dataframe tbody tr th:only-of-type {\n",
       "        vertical-align: middle;\n",
       "    }\n",
       "\n",
       "    .dataframe tbody tr th {\n",
       "        vertical-align: top;\n",
       "    }\n",
       "\n",
       "    .dataframe thead th {\n",
       "        text-align: right;\n",
       "    }\n",
       "</style>\n",
       "<table border=\"1\" class=\"dataframe\">\n",
       "  <thead>\n",
       "    <tr style=\"text-align: right;\">\n",
       "      <th></th>\n",
       "      <th>A</th>\n",
       "      <th>B_x</th>\n",
       "      <th>B_y</th>\n",
       "    </tr>\n",
       "  </thead>\n",
       "  <tbody>\n",
       "    <tr>\n",
       "      <th>0</th>\n",
       "      <td>Grab</td>\n",
       "      <td>200000</td>\n",
       "      <td>Yes</td>\n",
       "    </tr>\n",
       "    <tr>\n",
       "      <th>1</th>\n",
       "      <td>Uber</td>\n",
       "      <td>20000</td>\n",
       "      <td>NaN</td>\n",
       "    </tr>\n",
       "    <tr>\n",
       "      <th>2</th>\n",
       "      <td>Angkas</td>\n",
       "      <td>150000</td>\n",
       "      <td>Yes</td>\n",
       "    </tr>\n",
       "    <tr>\n",
       "      <th>3</th>\n",
       "      <td>Joyride</td>\n",
       "      <td>85000</td>\n",
       "      <td>NaN</td>\n",
       "    </tr>\n",
       "    <tr>\n",
       "      <th>4</th>\n",
       "      <td>Owto</td>\n",
       "      <td>60000</td>\n",
       "      <td>NaN</td>\n",
       "    </tr>\n",
       "  </tbody>\n",
       "</table>\n",
       "</div>"
      ],
      "text/plain": [
       "         A     B_x  B_y\n",
       "0     Grab  200000  Yes\n",
       "1     Uber   20000  NaN\n",
       "2   Angkas  150000  Yes\n",
       "3  Joyride   85000  NaN\n",
       "4     Owto   60000  NaN"
      ]
     },
     "execution_count": 106,
     "metadata": {},
     "output_type": "execute_result"
    }
   ],
   "source": [
    "pd.merge(assets, operating, on='A', how='left')"
   ]
  },
  {
   "cell_type": "code",
   "execution_count": 111,
   "metadata": {},
   "outputs": [
    {
     "data": {
      "text/html": [
       "<div>\n",
       "<style scoped>\n",
       "    .dataframe tbody tr th:only-of-type {\n",
       "        vertical-align: middle;\n",
       "    }\n",
       "\n",
       "    .dataframe tbody tr th {\n",
       "        vertical-align: top;\n",
       "    }\n",
       "\n",
       "    .dataframe thead th {\n",
       "        text-align: right;\n",
       "    }\n",
       "</style>\n",
       "<table border=\"1\" class=\"dataframe\">\n",
       "  <thead>\n",
       "    <tr style=\"text-align: right;\">\n",
       "      <th></th>\n",
       "      <th>A</th>\n",
       "      <th>B_x</th>\n",
       "      <th>B_y</th>\n",
       "    </tr>\n",
       "  </thead>\n",
       "  <tbody>\n",
       "    <tr>\n",
       "      <th>0</th>\n",
       "      <td>Grab</td>\n",
       "      <td>200000.0</td>\n",
       "      <td>Yes</td>\n",
       "    </tr>\n",
       "    <tr>\n",
       "      <th>1</th>\n",
       "      <td>Angkas</td>\n",
       "      <td>150000.0</td>\n",
       "      <td>Yes</td>\n",
       "    </tr>\n",
       "    <tr>\n",
       "      <th>2</th>\n",
       "      <td>Taxicabs</td>\n",
       "      <td>NaN</td>\n",
       "      <td>Yes</td>\n",
       "    </tr>\n",
       "  </tbody>\n",
       "</table>\n",
       "</div>"
      ],
      "text/plain": [
       "          A       B_x  B_y\n",
       "0      Grab  200000.0  Yes\n",
       "1    Angkas  150000.0  Yes\n",
       "2  Taxicabs       NaN  Yes"
      ]
     },
     "execution_count": 111,
     "metadata": {},
     "output_type": "execute_result"
    }
   ],
   "source": [
    "pd.merge(assets, operating, on='A', how='right')"
   ]
  },
  {
   "cell_type": "markdown",
   "metadata": {},
   "source": [
    "### Concatenating Tables"
   ]
  },
  {
   "cell_type": "code",
   "execution_count": 122,
   "metadata": {},
   "outputs": [
    {
     "data": {
      "text/html": [
       "<div>\n",
       "<style scoped>\n",
       "    .dataframe tbody tr th:only-of-type {\n",
       "        vertical-align: middle;\n",
       "    }\n",
       "\n",
       "    .dataframe tbody tr th {\n",
       "        vertical-align: top;\n",
       "    }\n",
       "\n",
       "    .dataframe thead th {\n",
       "        text-align: right;\n",
       "    }\n",
       "</style>\n",
       "<table border=\"1\" class=\"dataframe\">\n",
       "  <thead>\n",
       "    <tr style=\"text-align: right;\">\n",
       "      <th></th>\n",
       "      <th>A</th>\n",
       "      <th>B</th>\n",
       "    </tr>\n",
       "  </thead>\n",
       "  <tbody>\n",
       "    <tr>\n",
       "      <th>0</th>\n",
       "      <td>Marvin's Company</td>\n",
       "      <td>500000</td>\n",
       "    </tr>\n",
       "    <tr>\n",
       "      <th>1</th>\n",
       "      <td>Bong Go's Company</td>\n",
       "      <td>123000</td>\n",
       "    </tr>\n",
       "  </tbody>\n",
       "</table>\n",
       "</div>"
      ],
      "text/plain": [
       "                   A       B\n",
       "0   Marvin's Company  500000\n",
       "1  Bong Go's Company  123000"
      ]
     },
     "execution_count": 122,
     "metadata": {},
     "output_type": "execute_result"
    }
   ],
   "source": [
    "new_company = pd.DataFrame({'A': [\"Marvin's Company\", \"Bong Go's Company\"],\n",
    "                            'B': [500000, 123000]})\n",
    "\n",
    "new_company"
   ]
  },
  {
   "cell_type": "code",
   "execution_count": 128,
   "metadata": {},
   "outputs": [
    {
     "data": {
      "text/html": [
       "<div>\n",
       "<style scoped>\n",
       "    .dataframe tbody tr th:only-of-type {\n",
       "        vertical-align: middle;\n",
       "    }\n",
       "\n",
       "    .dataframe tbody tr th {\n",
       "        vertical-align: top;\n",
       "    }\n",
       "\n",
       "    .dataframe thead th {\n",
       "        text-align: right;\n",
       "    }\n",
       "</style>\n",
       "<table border=\"1\" class=\"dataframe\">\n",
       "  <thead>\n",
       "    <tr style=\"text-align: right;\">\n",
       "      <th></th>\n",
       "      <th>A</th>\n",
       "      <th>B</th>\n",
       "    </tr>\n",
       "  </thead>\n",
       "  <tbody>\n",
       "    <tr>\n",
       "      <th>0</th>\n",
       "      <td>Grab</td>\n",
       "      <td>200000</td>\n",
       "    </tr>\n",
       "    <tr>\n",
       "      <th>1</th>\n",
       "      <td>Uber</td>\n",
       "      <td>20000</td>\n",
       "    </tr>\n",
       "    <tr>\n",
       "      <th>2</th>\n",
       "      <td>Angkas</td>\n",
       "      <td>150000</td>\n",
       "    </tr>\n",
       "    <tr>\n",
       "      <th>3</th>\n",
       "      <td>Joyride</td>\n",
       "      <td>85000</td>\n",
       "    </tr>\n",
       "    <tr>\n",
       "      <th>4</th>\n",
       "      <td>Owto</td>\n",
       "      <td>60000</td>\n",
       "    </tr>\n",
       "    <tr>\n",
       "      <th>5</th>\n",
       "      <td>Marvin's Company</td>\n",
       "      <td>500000</td>\n",
       "    </tr>\n",
       "    <tr>\n",
       "      <th>6</th>\n",
       "      <td>Bong Go's Company</td>\n",
       "      <td>123000</td>\n",
       "    </tr>\n",
       "  </tbody>\n",
       "</table>\n",
       "</div>"
      ],
      "text/plain": [
       "                   A       B\n",
       "0               Grab  200000\n",
       "1               Uber   20000\n",
       "2             Angkas  150000\n",
       "3            Joyride   85000\n",
       "4               Owto   60000\n",
       "5   Marvin's Company  500000\n",
       "6  Bong Go's Company  123000"
      ]
     },
     "execution_count": 128,
     "metadata": {},
     "output_type": "execute_result"
    }
   ],
   "source": [
    "pd.concat([assets, new_company])"
   ]
  },
  {
   "cell_type": "markdown",
   "metadata": {},
   "source": [
    "### Appending Tables"
   ]
  },
  {
   "cell_type": "code",
   "execution_count": 126,
   "metadata": {},
   "outputs": [
    {
     "data": {
      "text/html": [
       "<div>\n",
       "<style scoped>\n",
       "    .dataframe tbody tr th:only-of-type {\n",
       "        vertical-align: middle;\n",
       "    }\n",
       "\n",
       "    .dataframe tbody tr th {\n",
       "        vertical-align: top;\n",
       "    }\n",
       "\n",
       "    .dataframe thead th {\n",
       "        text-align: right;\n",
       "    }\n",
       "</style>\n",
       "<table border=\"1\" class=\"dataframe\">\n",
       "  <thead>\n",
       "    <tr style=\"text-align: right;\">\n",
       "      <th></th>\n",
       "      <th>A</th>\n",
       "      <th>B</th>\n",
       "    </tr>\n",
       "  </thead>\n",
       "  <tbody>\n",
       "    <tr>\n",
       "      <th>0</th>\n",
       "      <td>Grab</td>\n",
       "      <td>200000</td>\n",
       "    </tr>\n",
       "    <tr>\n",
       "      <th>1</th>\n",
       "      <td>Uber</td>\n",
       "      <td>20000</td>\n",
       "    </tr>\n",
       "    <tr>\n",
       "      <th>2</th>\n",
       "      <td>Angkas</td>\n",
       "      <td>150000</td>\n",
       "    </tr>\n",
       "    <tr>\n",
       "      <th>3</th>\n",
       "      <td>Joyride</td>\n",
       "      <td>85000</td>\n",
       "    </tr>\n",
       "    <tr>\n",
       "      <th>4</th>\n",
       "      <td>Owto</td>\n",
       "      <td>60000</td>\n",
       "    </tr>\n",
       "    <tr>\n",
       "      <th>5</th>\n",
       "      <td>Marvin's Company</td>\n",
       "      <td>500000</td>\n",
       "    </tr>\n",
       "    <tr>\n",
       "      <th>6</th>\n",
       "      <td>Bong Go's Company</td>\n",
       "      <td>123000</td>\n",
       "    </tr>\n",
       "  </tbody>\n",
       "</table>\n",
       "</div>"
      ],
      "text/plain": [
       "                   A       B\n",
       "0               Grab  200000\n",
       "1               Uber   20000\n",
       "2             Angkas  150000\n",
       "3            Joyride   85000\n",
       "4               Owto   60000\n",
       "5   Marvin's Company  500000\n",
       "6  Bong Go's Company  123000"
      ]
     },
     "execution_count": 126,
     "metadata": {},
     "output_type": "execute_result"
    }
   ],
   "source": [
    "assets.append(new_company, ignore_index=True) # ignore_index also works for concat"
   ]
  },
  {
   "cell_type": "markdown",
   "metadata": {},
   "source": [
    "[*Return to top.*](#Table-of-Contents)\n",
    "\n",
    "## Grouping and Reshaping\n",
    "\n",
    "Suppose you have the following table"
   ]
  },
  {
   "cell_type": "code",
   "execution_count": 8,
   "metadata": {},
   "outputs": [
    {
     "data": {
      "text/html": [
       "<div>\n",
       "<style scoped>\n",
       "    .dataframe tbody tr th:only-of-type {\n",
       "        vertical-align: middle;\n",
       "    }\n",
       "\n",
       "    .dataframe tbody tr th {\n",
       "        vertical-align: top;\n",
       "    }\n",
       "\n",
       "    .dataframe thead th {\n",
       "        text-align: right;\n",
       "    }\n",
       "</style>\n",
       "<table border=\"1\" class=\"dataframe\">\n",
       "  <thead>\n",
       "    <tr style=\"text-align: right;\">\n",
       "      <th></th>\n",
       "      <th>A</th>\n",
       "      <th>B</th>\n",
       "      <th>C</th>\n",
       "    </tr>\n",
       "  </thead>\n",
       "  <tbody>\n",
       "    <tr>\n",
       "      <th>0</th>\n",
       "      <td>Pen</td>\n",
       "      <td>Janice</td>\n",
       "      <td>100</td>\n",
       "    </tr>\n",
       "    <tr>\n",
       "      <th>1</th>\n",
       "      <td>Paper</td>\n",
       "      <td>Chandler</td>\n",
       "      <td>200</td>\n",
       "    </tr>\n",
       "    <tr>\n",
       "      <th>2</th>\n",
       "      <td>Pen</td>\n",
       "      <td>Janice</td>\n",
       "      <td>-150</td>\n",
       "    </tr>\n",
       "    <tr>\n",
       "      <th>3</th>\n",
       "      <td>Paper</td>\n",
       "      <td>Chandler</td>\n",
       "      <td>300</td>\n",
       "    </tr>\n",
       "    <tr>\n",
       "      <th>4</th>\n",
       "      <td>Pen</td>\n",
       "      <td>Janice</td>\n",
       "      <td>400</td>\n",
       "    </tr>\n",
       "    <tr>\n",
       "      <th>5</th>\n",
       "      <td>Paper</td>\n",
       "      <td>Chandler</td>\n",
       "      <td>-300</td>\n",
       "    </tr>\n",
       "    <tr>\n",
       "      <th>6</th>\n",
       "      <td>Paper</td>\n",
       "      <td>Janice</td>\n",
       "      <td>150</td>\n",
       "    </tr>\n",
       "    <tr>\n",
       "      <th>7</th>\n",
       "      <td>Paper</td>\n",
       "      <td>Chandler</td>\n",
       "      <td>500</td>\n",
       "    </tr>\n",
       "  </tbody>\n",
       "</table>\n",
       "</div>"
      ],
      "text/plain": [
       "       A         B    C\n",
       "0    Pen    Janice  100\n",
       "1  Paper  Chandler  200\n",
       "2    Pen    Janice -150\n",
       "3  Paper  Chandler  300\n",
       "4    Pen    Janice  400\n",
       "5  Paper  Chandler -300\n",
       "6  Paper    Janice  150\n",
       "7  Paper  Chandler  500"
      ]
     },
     "execution_count": 8,
     "metadata": {},
     "output_type": "execute_result"
    }
   ],
   "source": [
    "transactions = pd.DataFrame({'A': ['Pen', 'Paper', 'Pen', 'Paper',\n",
    "                                   'Pen', 'Paper', 'Paper', 'Paper'],\n",
    "                             'B': ['Janice', 'Chandler', 'Janice', 'Chandler',\n",
    "                                   'Janice', 'Chandler', 'Janice', 'Chandler'],\n",
    "                             'C':[100, 200, -150, 300,\n",
    "                                  400, -300, 150, 500]\n",
    "                            })\n",
    "\n",
    "transactions"
   ]
  },
  {
   "cell_type": "markdown",
   "metadata": {},
   "source": [
    "### Group By"
   ]
  },
  {
   "cell_type": "code",
   "execution_count": 5,
   "metadata": {},
   "outputs": [
    {
     "data": {
      "text/html": [
       "<div>\n",
       "<style scoped>\n",
       "    .dataframe tbody tr th:only-of-type {\n",
       "        vertical-align: middle;\n",
       "    }\n",
       "\n",
       "    .dataframe tbody tr th {\n",
       "        vertical-align: top;\n",
       "    }\n",
       "\n",
       "    .dataframe thead th {\n",
       "        text-align: right;\n",
       "    }\n",
       "</style>\n",
       "<table border=\"1\" class=\"dataframe\">\n",
       "  <thead>\n",
       "    <tr style=\"text-align: right;\">\n",
       "      <th></th>\n",
       "      <th>C</th>\n",
       "    </tr>\n",
       "    <tr>\n",
       "      <th>A</th>\n",
       "      <th></th>\n",
       "    </tr>\n",
       "  </thead>\n",
       "  <tbody>\n",
       "    <tr>\n",
       "      <th>Paper</th>\n",
       "      <td>850</td>\n",
       "    </tr>\n",
       "    <tr>\n",
       "      <th>Pen</th>\n",
       "      <td>350</td>\n",
       "    </tr>\n",
       "  </tbody>\n",
       "</table>\n",
       "</div>"
      ],
      "text/plain": [
       "         C\n",
       "A         \n",
       "Paper  850\n",
       "Pen    350"
      ]
     },
     "execution_count": 5,
     "metadata": {},
     "output_type": "execute_result"
    }
   ],
   "source": [
    "transactions.groupby('A').sum()"
   ]
  },
  {
   "cell_type": "code",
   "execution_count": 10,
   "metadata": {},
   "outputs": [
    {
     "data": {
      "text/html": [
       "<div>\n",
       "<style scoped>\n",
       "    .dataframe tbody tr th:only-of-type {\n",
       "        vertical-align: middle;\n",
       "    }\n",
       "\n",
       "    .dataframe tbody tr th {\n",
       "        vertical-align: top;\n",
       "    }\n",
       "\n",
       "    .dataframe thead th {\n",
       "        text-align: right;\n",
       "    }\n",
       "</style>\n",
       "<table border=\"1\" class=\"dataframe\">\n",
       "  <thead>\n",
       "    <tr style=\"text-align: right;\">\n",
       "      <th></th>\n",
       "      <th></th>\n",
       "      <th>C</th>\n",
       "    </tr>\n",
       "    <tr>\n",
       "      <th>A</th>\n",
       "      <th>B</th>\n",
       "      <th></th>\n",
       "    </tr>\n",
       "  </thead>\n",
       "  <tbody>\n",
       "    <tr>\n",
       "      <th rowspan=\"2\" valign=\"top\">Paper</th>\n",
       "      <th>Chandler</th>\n",
       "      <td>700</td>\n",
       "    </tr>\n",
       "    <tr>\n",
       "      <th>Janice</th>\n",
       "      <td>150</td>\n",
       "    </tr>\n",
       "    <tr>\n",
       "      <th>Pen</th>\n",
       "      <th>Janice</th>\n",
       "      <td>350</td>\n",
       "    </tr>\n",
       "  </tbody>\n",
       "</table>\n",
       "</div>"
      ],
      "text/plain": [
       "                  C\n",
       "A     B            \n",
       "Paper Chandler  700\n",
       "      Janice    150\n",
       "Pen   Janice    350"
      ]
     },
     "execution_count": 10,
     "metadata": {},
     "output_type": "execute_result"
    }
   ],
   "source": [
    "transactions.groupby(['A', 'B']).sum()"
   ]
  },
  {
   "cell_type": "markdown",
   "metadata": {},
   "source": [
    "### Pivot Tables"
   ]
  },
  {
   "cell_type": "code",
   "execution_count": 15,
   "metadata": {},
   "outputs": [
    {
     "data": {
      "text/html": [
       "<div>\n",
       "<style scoped>\n",
       "    .dataframe tbody tr th:only-of-type {\n",
       "        vertical-align: middle;\n",
       "    }\n",
       "\n",
       "    .dataframe tbody tr th {\n",
       "        vertical-align: top;\n",
       "    }\n",
       "\n",
       "    .dataframe thead th {\n",
       "        text-align: right;\n",
       "    }\n",
       "</style>\n",
       "<table border=\"1\" class=\"dataframe\">\n",
       "  <thead>\n",
       "    <tr style=\"text-align: right;\">\n",
       "      <th></th>\n",
       "      <th></th>\n",
       "      <th>C</th>\n",
       "    </tr>\n",
       "    <tr>\n",
       "      <th>A</th>\n",
       "      <th>B</th>\n",
       "      <th></th>\n",
       "    </tr>\n",
       "  </thead>\n",
       "  <tbody>\n",
       "    <tr>\n",
       "      <th rowspan=\"2\" valign=\"top\">Paper</th>\n",
       "      <th>Chandler</th>\n",
       "      <td>700</td>\n",
       "    </tr>\n",
       "    <tr>\n",
       "      <th>Janice</th>\n",
       "      <td>150</td>\n",
       "    </tr>\n",
       "    <tr>\n",
       "      <th>Pen</th>\n",
       "      <th>Janice</th>\n",
       "      <td>350</td>\n",
       "    </tr>\n",
       "  </tbody>\n",
       "</table>\n",
       "</div>"
      ],
      "text/plain": [
       "                  C\n",
       "A     B            \n",
       "Paper Chandler  700\n",
       "      Janice    150\n",
       "Pen   Janice    350"
      ]
     },
     "execution_count": 15,
     "metadata": {},
     "output_type": "execute_result"
    }
   ],
   "source": [
    "pd.pivot_table(transactions, values='C', index=['A', 'B'], aggfunc={'C': sum})"
   ]
  },
  {
   "cell_type": "markdown",
   "metadata": {},
   "source": [
    "### Stack"
   ]
  },
  {
   "cell_type": "code",
   "execution_count": 21,
   "metadata": {},
   "outputs": [
    {
     "data": {
      "text/plain": [
       "0  A         Pen\n",
       "   B      Janice\n",
       "   C         100\n",
       "1  A       Paper\n",
       "   B    Chandler\n",
       "   C         200\n",
       "2  A         Pen\n",
       "   B      Janice\n",
       "   C        -150\n",
       "3  A       Paper\n",
       "   B    Chandler\n",
       "   C         300\n",
       "4  A         Pen\n",
       "   B      Janice\n",
       "   C         400\n",
       "5  A       Paper\n",
       "   B    Chandler\n",
       "   C        -300\n",
       "6  A       Paper\n",
       "   B      Janice\n",
       "   C         150\n",
       "7  A       Paper\n",
       "   B    Chandler\n",
       "   C         500\n",
       "dtype: object"
      ]
     },
     "execution_count": 21,
     "metadata": {},
     "output_type": "execute_result"
    }
   ],
   "source": [
    "transactions.stack()"
   ]
  },
  {
   "cell_type": "code",
   "execution_count": 27,
   "metadata": {},
   "outputs": [
    {
     "data": {
      "text/html": [
       "<div>\n",
       "<style scoped>\n",
       "    .dataframe tbody tr th:only-of-type {\n",
       "        vertical-align: middle;\n",
       "    }\n",
       "\n",
       "    .dataframe tbody tr th {\n",
       "        vertical-align: top;\n",
       "    }\n",
       "\n",
       "    .dataframe thead th {\n",
       "        text-align: right;\n",
       "    }\n",
       "</style>\n",
       "<table border=\"1\" class=\"dataframe\">\n",
       "  <thead>\n",
       "    <tr style=\"text-align: right;\">\n",
       "      <th></th>\n",
       "      <th>A</th>\n",
       "      <th>B</th>\n",
       "      <th>C</th>\n",
       "    </tr>\n",
       "  </thead>\n",
       "  <tbody>\n",
       "    <tr>\n",
       "      <th>0</th>\n",
       "      <td>Pen</td>\n",
       "      <td>Janice</td>\n",
       "      <td>100</td>\n",
       "    </tr>\n",
       "    <tr>\n",
       "      <th>1</th>\n",
       "      <td>Paper</td>\n",
       "      <td>Chandler</td>\n",
       "      <td>200</td>\n",
       "    </tr>\n",
       "    <tr>\n",
       "      <th>2</th>\n",
       "      <td>Pen</td>\n",
       "      <td>Janice</td>\n",
       "      <td>-150</td>\n",
       "    </tr>\n",
       "    <tr>\n",
       "      <th>3</th>\n",
       "      <td>Paper</td>\n",
       "      <td>Chandler</td>\n",
       "      <td>300</td>\n",
       "    </tr>\n",
       "    <tr>\n",
       "      <th>4</th>\n",
       "      <td>Pen</td>\n",
       "      <td>Janice</td>\n",
       "      <td>400</td>\n",
       "    </tr>\n",
       "    <tr>\n",
       "      <th>5</th>\n",
       "      <td>Paper</td>\n",
       "      <td>Chandler</td>\n",
       "      <td>-300</td>\n",
       "    </tr>\n",
       "    <tr>\n",
       "      <th>6</th>\n",
       "      <td>Paper</td>\n",
       "      <td>Janice</td>\n",
       "      <td>150</td>\n",
       "    </tr>\n",
       "    <tr>\n",
       "      <th>7</th>\n",
       "      <td>Paper</td>\n",
       "      <td>Chandler</td>\n",
       "      <td>500</td>\n",
       "    </tr>\n",
       "  </tbody>\n",
       "</table>\n",
       "</div>"
      ],
      "text/plain": [
       "       A         B     C\n",
       "0    Pen    Janice   100\n",
       "1  Paper  Chandler   200\n",
       "2    Pen    Janice  -150\n",
       "3  Paper  Chandler   300\n",
       "4    Pen    Janice   400\n",
       "5  Paper  Chandler  -300\n",
       "6  Paper    Janice   150\n",
       "7  Paper  Chandler   500"
      ]
     },
     "execution_count": 27,
     "metadata": {},
     "output_type": "execute_result"
    }
   ],
   "source": [
    "x = transactions.stack()\n",
    "\n",
    "x.unstack()"
   ]
  },
  {
   "cell_type": "markdown",
   "metadata": {},
   "source": [
    "[*Return to top.*](#Table-of-Contents)\n",
    "\n",
    "## Plotting Data\n",
    "\n",
    "Reload the `stock_price` DataFrame from [earlier example](#Selecting-Data-from-a-DataFrame).\n"
   ]
  },
  {
   "cell_type": "code",
   "execution_count": 72,
   "metadata": {},
   "outputs": [
    {
     "data": {
      "text/plain": [
       "<matplotlib.axes._subplots.AxesSubplot at 0x203f5a4df40>"
      ]
     },
     "execution_count": 72,
     "metadata": {},
     "output_type": "execute_result"
    },
    {
     "data": {
      "image/png": "[encoded data removed]",
      "text/plain": [
       "<Figure size 432x288 with 1 Axes>"
      ]
     },
     "metadata": {
      "needs_background": "light"
     },
     "output_type": "display_data"
    }
   ],
   "source": [
    "stock_price.plot()"
   ]
  },
  {
   "cell_type": "code",
   "execution_count": null,
   "metadata": {},
   "outputs": [],
   "source": []
  },
  {
   "cell_type": "markdown",
   "metadata": {},
   "source": [
    "[*Return to top.*](#Table-of-Contents)\n",
    "\n",
    "## Importing from files\n",
    "\n",
    "pandas can read common files such as CSV and Excel.\n",
    "\n",
    "To do this, pandas has read_* commands.\n",
    "\n",
    "Below, we will deal with the [world's population datasset from World Bank](https://data.worldbank.org/indicator/SP.POP.TOTL). Remove the metadata so only the tabular data remains."
   ]
  },
  {
   "cell_type": "code",
   "execution_count": 46,
   "metadata": {},
   "outputs": [
    {
     "data": {
      "text/html": [
       "<div>\n",
       "<style scoped>\n",
       "    .dataframe tbody tr th:only-of-type {\n",
       "        vertical-align: middle;\n",
       "    }\n",
       "\n",
       "    .dataframe tbody tr th {\n",
       "        vertical-align: top;\n",
       "    }\n",
       "\n",
       "    .dataframe thead th {\n",
       "        text-align: right;\n",
       "    }\n",
       "</style>\n",
       "<table border=\"1\" class=\"dataframe\">\n",
       "  <thead>\n",
       "    <tr style=\"text-align: right;\">\n",
       "      <th></th>\n",
       "      <th>Country Name</th>\n",
       "      <th>Country Code</th>\n",
       "      <th>Indicator Name</th>\n",
       "      <th>Indicator Code</th>\n",
       "      <th>1960</th>\n",
       "      <th>1961</th>\n",
       "      <th>1962</th>\n",
       "      <th>1963</th>\n",
       "      <th>1964</th>\n",
       "      <th>1965</th>\n",
       "      <th>...</th>\n",
       "      <th>2010</th>\n",
       "      <th>2011</th>\n",
       "      <th>2012</th>\n",
       "      <th>2013</th>\n",
       "      <th>2014</th>\n",
       "      <th>2015</th>\n",
       "      <th>2016</th>\n",
       "      <th>2017</th>\n",
       "      <th>2018</th>\n",
       "      <th>2019</th>\n",
       "    </tr>\n",
       "  </thead>\n",
       "  <tbody>\n",
       "    <tr>\n",
       "      <th>0</th>\n",
       "      <td>Aruba</td>\n",
       "      <td>ABW</td>\n",
       "      <td>Population, total</td>\n",
       "      <td>SP.POP.TOTL</td>\n",
       "      <td>54211.0</td>\n",
       "      <td>55438.0</td>\n",
       "      <td>56225.0</td>\n",
       "      <td>56695.0</td>\n",
       "      <td>57032.0</td>\n",
       "      <td>57360.0</td>\n",
       "      <td>...</td>\n",
       "      <td>101669.0</td>\n",
       "      <td>102046.0</td>\n",
       "      <td>102560.0</td>\n",
       "      <td>103159.0</td>\n",
       "      <td>103774.0</td>\n",
       "      <td>104341.0</td>\n",
       "      <td>104872.0</td>\n",
       "      <td>105366.0</td>\n",
       "      <td>105845.0</td>\n",
       "      <td>106314.0</td>\n",
       "    </tr>\n",
       "    <tr>\n",
       "      <th>1</th>\n",
       "      <td>Afghanistan</td>\n",
       "      <td>AFG</td>\n",
       "      <td>Population, total</td>\n",
       "      <td>SP.POP.TOTL</td>\n",
       "      <td>8996973.0</td>\n",
       "      <td>9169410.0</td>\n",
       "      <td>9351441.0</td>\n",
       "      <td>9543205.0</td>\n",
       "      <td>9744781.0</td>\n",
       "      <td>9956320.0</td>\n",
       "      <td>...</td>\n",
       "      <td>29185507.0</td>\n",
       "      <td>30117413.0</td>\n",
       "      <td>31161376.0</td>\n",
       "      <td>32269589.0</td>\n",
       "      <td>33370794.0</td>\n",
       "      <td>34413603.0</td>\n",
       "      <td>35383128.0</td>\n",
       "      <td>36296400.0</td>\n",
       "      <td>37172386.0</td>\n",
       "      <td>38041754.0</td>\n",
       "    </tr>\n",
       "    <tr>\n",
       "      <th>2</th>\n",
       "      <td>Angola</td>\n",
       "      <td>AGO</td>\n",
       "      <td>Population, total</td>\n",
       "      <td>SP.POP.TOTL</td>\n",
       "      <td>5454933.0</td>\n",
       "      <td>5531472.0</td>\n",
       "      <td>5608539.0</td>\n",
       "      <td>5679458.0</td>\n",
       "      <td>5735044.0</td>\n",
       "      <td>5770570.0</td>\n",
       "      <td>...</td>\n",
       "      <td>23356246.0</td>\n",
       "      <td>24220661.0</td>\n",
       "      <td>25107931.0</td>\n",
       "      <td>26015780.0</td>\n",
       "      <td>26941779.0</td>\n",
       "      <td>27884381.0</td>\n",
       "      <td>28842484.0</td>\n",
       "      <td>29816748.0</td>\n",
       "      <td>30809762.0</td>\n",
       "      <td>31825295.0</td>\n",
       "    </tr>\n",
       "    <tr>\n",
       "      <th>3</th>\n",
       "      <td>Albania</td>\n",
       "      <td>ALB</td>\n",
       "      <td>Population, total</td>\n",
       "      <td>SP.POP.TOTL</td>\n",
       "      <td>1608800.0</td>\n",
       "      <td>1659800.0</td>\n",
       "      <td>1711319.0</td>\n",
       "      <td>1762621.0</td>\n",
       "      <td>1814135.0</td>\n",
       "      <td>1864791.0</td>\n",
       "      <td>...</td>\n",
       "      <td>2913021.0</td>\n",
       "      <td>2905195.0</td>\n",
       "      <td>2900401.0</td>\n",
       "      <td>2895092.0</td>\n",
       "      <td>2889104.0</td>\n",
       "      <td>2880703.0</td>\n",
       "      <td>2876101.0</td>\n",
       "      <td>2873457.0</td>\n",
       "      <td>2866376.0</td>\n",
       "      <td>2854191.0</td>\n",
       "    </tr>\n",
       "    <tr>\n",
       "      <th>4</th>\n",
       "      <td>Andorra</td>\n",
       "      <td>AND</td>\n",
       "      <td>Population, total</td>\n",
       "      <td>SP.POP.TOTL</td>\n",
       "      <td>13411.0</td>\n",
       "      <td>14375.0</td>\n",
       "      <td>15370.0</td>\n",
       "      <td>16412.0</td>\n",
       "      <td>17469.0</td>\n",
       "      <td>18549.0</td>\n",
       "      <td>...</td>\n",
       "      <td>84449.0</td>\n",
       "      <td>83747.0</td>\n",
       "      <td>82427.0</td>\n",
       "      <td>80774.0</td>\n",
       "      <td>79213.0</td>\n",
       "      <td>78011.0</td>\n",
       "      <td>77297.0</td>\n",
       "      <td>77001.0</td>\n",
       "      <td>77006.0</td>\n",
       "      <td>77142.0</td>\n",
       "    </tr>\n",
       "  </tbody>\n",
       "</table>\n",
       "<p>5 rows × 64 columns</p>\n",
       "</div>"
      ],
      "text/plain": [
       "  Country Name Country Code     Indicator Name Indicator Code       1960  \\\n",
       "0        Aruba          ABW  Population, total    SP.POP.TOTL    54211.0   \n",
       "1  Afghanistan          AFG  Population, total    SP.POP.TOTL  8996973.0   \n",
       "2       Angola          AGO  Population, total    SP.POP.TOTL  5454933.0   \n",
       "3      Albania          ALB  Population, total    SP.POP.TOTL  1608800.0   \n",
       "4      Andorra          AND  Population, total    SP.POP.TOTL    13411.0   \n",
       "\n",
       "        1961       1962       1963       1964       1965  ...        2010  \\\n",
       "0    55438.0    56225.0    56695.0    57032.0    57360.0  ...    101669.0   \n",
       "1  9169410.0  9351441.0  9543205.0  9744781.0  9956320.0  ...  29185507.0   \n",
       "2  5531472.0  5608539.0  5679458.0  5735044.0  5770570.0  ...  23356246.0   \n",
       "3  1659800.0  1711319.0  1762621.0  1814135.0  1864791.0  ...   2913021.0   \n",
       "4    14375.0    15370.0    16412.0    17469.0    18549.0  ...     84449.0   \n",
       "\n",
       "         2011        2012        2013        2014        2015        2016  \\\n",
       "0    102046.0    102560.0    103159.0    103774.0    104341.0    104872.0   \n",
       "1  30117413.0  31161376.0  32269589.0  33370794.0  34413603.0  35383128.0   \n",
       "2  24220661.0  25107931.0  26015780.0  26941779.0  27884381.0  28842484.0   \n",
       "3   2905195.0   2900401.0   2895092.0   2889104.0   2880703.0   2876101.0   \n",
       "4     83747.0     82427.0     80774.0     79213.0     78011.0     77297.0   \n",
       "\n",
       "         2017        2018        2019  \n",
       "0    105366.0    105845.0    106314.0  \n",
       "1  36296400.0  37172386.0  38041754.0  \n",
       "2  29816748.0  30809762.0  31825295.0  \n",
       "3   2873457.0   2866376.0   2854191.0  \n",
       "4     77001.0     77006.0     77142.0  \n",
       "\n",
       "[5 rows x 64 columns]"
      ]
     },
     "execution_count": 46,
     "metadata": {},
     "output_type": "execute_result"
    }
   ],
   "source": [
    "dataset = pd.read_csv('world_pop_dataset.csv')\n",
    "\n",
    "dataset.head()"
   ]
  },
  {
   "cell_type": "markdown",
   "metadata": {},
   "source": [
    "**Exercise:**\n",
    "\n",
    "1. What is the population of the Philippines on the date of your birth?\n",
    "2. What is the population of Japan from 2017 to 2019?"
   ]
  },
  {
   "cell_type": "code",
   "execution_count": 55,
   "metadata": {},
   "outputs": [
    {
     "data": {
      "text/plain": [
       "185    81365258.0\n",
       "Name: 2002, dtype: float64"
      ]
     },
     "execution_count": 55,
     "metadata": {},
     "output_type": "execute_result"
    }
   ],
   "source": [
    "#My answer\n",
    "dataset[dataset['Country Name']=='Philippines']['2002']"
   ]
  },
  {
   "cell_type": "code",
   "execution_count": 59,
   "metadata": {},
   "outputs": [
    {
     "data": {
      "text/html": [
       "<div>\n",
       "<style scoped>\n",
       "    .dataframe tbody tr th:only-of-type {\n",
       "        vertical-align: middle;\n",
       "    }\n",
       "\n",
       "    .dataframe tbody tr th {\n",
       "        vertical-align: top;\n",
       "    }\n",
       "\n",
       "    .dataframe thead th {\n",
       "        text-align: right;\n",
       "    }\n",
       "</style>\n",
       "<table border=\"1\" class=\"dataframe\">\n",
       "  <thead>\n",
       "    <tr style=\"text-align: right;\">\n",
       "      <th></th>\n",
       "      <th>2017</th>\n",
       "      <th>2018</th>\n",
       "      <th>2019</th>\n",
       "    </tr>\n",
       "  </thead>\n",
       "  <tbody>\n",
       "    <tr>\n",
       "      <th>117</th>\n",
       "      <td>126785797.0</td>\n",
       "      <td>126529100.0</td>\n",
       "      <td>126264931.0</td>\n",
       "    </tr>\n",
       "  </tbody>\n",
       "</table>\n",
       "</div>"
      ],
      "text/plain": [
       "            2017         2018         2019\n",
       "117  126785797.0  126529100.0  126264931.0"
      ]
     },
     "execution_count": 59,
     "metadata": {},
     "output_type": "execute_result"
    }
   ],
   "source": [
    "dataset[dataset['Country Name']=='Japan'][['2017', '2018', '2019']]"
   ]
  },
  {
   "cell_type": "markdown",
   "metadata": {},
   "source": [
    "**Exercise**: Try to export your own Excel file using `pd.read_excel()` command.\n",
    "\n",
    "Remember to save your instance in a variable."
   ]
  },
  {
   "cell_type": "markdown",
   "metadata": {},
   "source": [
    "[*Return to top.*](#Table-of-Contents)\n",
    "\n",
    "## Exporting to files"
   ]
  },
  {
   "cell_type": "markdown",
   "metadata": {},
   "source": [
    "To export files, use the `pd.to_*` command."
   ]
  },
  {
   "cell_type": "code",
   "execution_count": 65,
   "metadata": {},
   "outputs": [],
   "source": [
    "japan_population = dataset[dataset['Country Name']=='Japan'][['Country Name', '2017', '2018', '2019']]"
   ]
  },
  {
   "cell_type": "code",
   "execution_count": 66,
   "metadata": {},
   "outputs": [],
   "source": [
    "japan_population.to_excel(\"This is our output file.xlsx\", index=False)"
   ]
  },
  {
   "cell_type": "markdown",
   "metadata": {},
   "source": [
    "[*Return to top.*](#Table-of-Contents)\n",
    "## Some basic statistical functions"
   ]
  },
  {
   "cell_type": "code",
   "execution_count": 73,
   "metadata": {},
   "outputs": [
    {
     "data": {
      "text/html": [
       "<div>\n",
       "<style scoped>\n",
       "    .dataframe tbody tr th:only-of-type {\n",
       "        vertical-align: middle;\n",
       "    }\n",
       "\n",
       "    .dataframe tbody tr th {\n",
       "        vertical-align: top;\n",
       "    }\n",
       "\n",
       "    .dataframe thead th {\n",
       "        text-align: right;\n",
       "    }\n",
       "</style>\n",
       "<table border=\"1\" class=\"dataframe\">\n",
       "  <thead>\n",
       "    <tr style=\"text-align: right;\">\n",
       "      <th></th>\n",
       "      <th>1960</th>\n",
       "      <th>1961</th>\n",
       "      <th>1962</th>\n",
       "      <th>1963</th>\n",
       "      <th>1964</th>\n",
       "      <th>1965</th>\n",
       "      <th>1966</th>\n",
       "      <th>1967</th>\n",
       "      <th>1968</th>\n",
       "      <th>1969</th>\n",
       "      <th>...</th>\n",
       "      <th>2010</th>\n",
       "      <th>2011</th>\n",
       "      <th>2012</th>\n",
       "      <th>2013</th>\n",
       "      <th>2014</th>\n",
       "      <th>2015</th>\n",
       "      <th>2016</th>\n",
       "      <th>2017</th>\n",
       "      <th>2018</th>\n",
       "      <th>2019</th>\n",
       "    </tr>\n",
       "  </thead>\n",
       "  <tbody>\n",
       "    <tr>\n",
       "      <th>count</th>\n",
       "      <td>2.610000e+02</td>\n",
       "      <td>2.610000e+02</td>\n",
       "      <td>2.610000e+02</td>\n",
       "      <td>2.610000e+02</td>\n",
       "      <td>2.610000e+02</td>\n",
       "      <td>2.610000e+02</td>\n",
       "      <td>2.610000e+02</td>\n",
       "      <td>2.610000e+02</td>\n",
       "      <td>2.610000e+02</td>\n",
       "      <td>2.610000e+02</td>\n",
       "      <td>...</td>\n",
       "      <td>2.630000e+02</td>\n",
       "      <td>2.630000e+02</td>\n",
       "      <td>2.630000e+02</td>\n",
       "      <td>2.630000e+02</td>\n",
       "      <td>2.630000e+02</td>\n",
       "      <td>2.630000e+02</td>\n",
       "      <td>2.630000e+02</td>\n",
       "      <td>2.630000e+02</td>\n",
       "      <td>2.630000e+02</td>\n",
       "      <td>2.630000e+02</td>\n",
       "    </tr>\n",
       "    <tr>\n",
       "      <th>mean</th>\n",
       "      <td>1.175444e+08</td>\n",
       "      <td>1.191247e+08</td>\n",
       "      <td>1.212364e+08</td>\n",
       "      <td>1.238642e+08</td>\n",
       "      <td>1.265127e+08</td>\n",
       "      <td>1.292265e+08</td>\n",
       "      <td>1.320838e+08</td>\n",
       "      <td>1.349303e+08</td>\n",
       "      <td>1.378298e+08</td>\n",
       "      <td>1.408730e+08</td>\n",
       "      <td>...</td>\n",
       "      <td>2.778084e+08</td>\n",
       "      <td>2.813103e+08</td>\n",
       "      <td>2.848843e+08</td>\n",
       "      <td>2.885087e+08</td>\n",
       "      <td>2.921666e+08</td>\n",
       "      <td>2.958387e+08</td>\n",
       "      <td>2.995412e+08</td>\n",
       "      <td>3.032408e+08</td>\n",
       "      <td>3.068762e+08</td>\n",
       "      <td>3.104696e+08</td>\n",
       "    </tr>\n",
       "    <tr>\n",
       "      <th>std</th>\n",
       "      <td>3.721134e+08</td>\n",
       "      <td>3.765728e+08</td>\n",
       "      <td>3.831323e+08</td>\n",
       "      <td>3.916845e+08</td>\n",
       "      <td>4.002796e+08</td>\n",
       "      <td>4.091109e+08</td>\n",
       "      <td>4.185058e+08</td>\n",
       "      <td>4.278313e+08</td>\n",
       "      <td>4.373716e+08</td>\n",
       "      <td>4.474028e+08</td>\n",
       "      <td>...</td>\n",
       "      <td>8.825330e+08</td>\n",
       "      <td>8.930728e+08</td>\n",
       "      <td>9.037507e+08</td>\n",
       "      <td>9.145551e+08</td>\n",
       "      <td>9.254372e+08</td>\n",
       "      <td>9.363454e+08</td>\n",
       "      <td>9.473365e+08</td>\n",
       "      <td>9.583278e+08</td>\n",
       "      <td>9.690588e+08</td>\n",
       "      <td>9.795845e+08</td>\n",
       "    </tr>\n",
       "    <tr>\n",
       "      <th>min</th>\n",
       "      <td>3.893000e+03</td>\n",
       "      <td>3.989000e+03</td>\n",
       "      <td>4.076000e+03</td>\n",
       "      <td>4.183000e+03</td>\n",
       "      <td>4.308000e+03</td>\n",
       "      <td>4.468000e+03</td>\n",
       "      <td>4.685000e+03</td>\n",
       "      <td>4.920000e+03</td>\n",
       "      <td>5.193000e+03</td>\n",
       "      <td>5.459000e+03</td>\n",
       "      <td>...</td>\n",
       "      <td>1.000500e+04</td>\n",
       "      <td>1.005700e+04</td>\n",
       "      <td>1.027900e+04</td>\n",
       "      <td>1.082100e+04</td>\n",
       "      <td>1.097200e+04</td>\n",
       "      <td>1.109900e+04</td>\n",
       "      <td>1.122500e+04</td>\n",
       "      <td>1.137000e+04</td>\n",
       "      <td>1.150800e+04</td>\n",
       "      <td>1.164600e+04</td>\n",
       "    </tr>\n",
       "    <tr>\n",
       "      <th>25%</th>\n",
       "      <td>5.027450e+05</td>\n",
       "      <td>5.126850e+05</td>\n",
       "      <td>5.237780e+05</td>\n",
       "      <td>5.356850e+05</td>\n",
       "      <td>5.478730e+05</td>\n",
       "      <td>5.599940e+05</td>\n",
       "      <td>5.719640e+05</td>\n",
       "      <td>5.840920e+05</td>\n",
       "      <td>5.984950e+05</td>\n",
       "      <td>6.113000e+05</td>\n",
       "      <td>...</td>\n",
       "      <td>1.427037e+06</td>\n",
       "      <td>1.449584e+06</td>\n",
       "      <td>1.474898e+06</td>\n",
       "      <td>1.500978e+06</td>\n",
       "      <td>1.527390e+06</td>\n",
       "      <td>1.554526e+06</td>\n",
       "      <td>1.601674e+06</td>\n",
       "      <td>1.642538e+06</td>\n",
       "      <td>1.683262e+06</td>\n",
       "      <td>1.717710e+06</td>\n",
       "    </tr>\n",
       "    <tr>\n",
       "      <th>50%</th>\n",
       "      <td>3.659984e+06</td>\n",
       "      <td>3.747753e+06</td>\n",
       "      <td>3.839043e+06</td>\n",
       "      <td>3.933908e+06</td>\n",
       "      <td>4.071411e+06</td>\n",
       "      <td>4.226844e+06</td>\n",
       "      <td>4.310701e+06</td>\n",
       "      <td>4.350452e+06</td>\n",
       "      <td>4.464423e+06</td>\n",
       "      <td>4.518607e+06</td>\n",
       "      <td>...</td>\n",
       "      <td>9.378126e+06</td>\n",
       "      <td>9.460830e+06</td>\n",
       "      <td>9.519374e+06</td>\n",
       "      <td>9.600379e+06</td>\n",
       "      <td>9.844297e+06</td>\n",
       "      <td>9.843028e+06</td>\n",
       "      <td>9.923085e+06</td>\n",
       "      <td>1.005770e+07</td>\n",
       "      <td>1.017521e+07</td>\n",
       "      <td>1.026942e+07</td>\n",
       "    </tr>\n",
       "    <tr>\n",
       "      <th>75%</th>\n",
       "      <td>2.501237e+07</td>\n",
       "      <td>2.576567e+07</td>\n",
       "      <td>2.651303e+07</td>\n",
       "      <td>2.726175e+07</td>\n",
       "      <td>2.798416e+07</td>\n",
       "      <td>2.870467e+07</td>\n",
       "      <td>2.943557e+07</td>\n",
       "      <td>3.013098e+07</td>\n",
       "      <td>3.083830e+07</td>\n",
       "      <td>3.154427e+07</td>\n",
       "      <td>...</td>\n",
       "      <td>5.090889e+07</td>\n",
       "      <td>5.149739e+07</td>\n",
       "      <td>5.212385e+07</td>\n",
       "      <td>5.277084e+07</td>\n",
       "      <td>5.341340e+07</td>\n",
       "      <td>5.403355e+07</td>\n",
       "      <td>5.462722e+07</td>\n",
       "      <td>5.583218e+07</td>\n",
       "      <td>5.704898e+07</td>\n",
       "      <td>5.828187e+07</td>\n",
       "    </tr>\n",
       "    <tr>\n",
       "      <th>max</th>\n",
       "      <td>3.031438e+09</td>\n",
       "      <td>3.072481e+09</td>\n",
       "      <td>3.125457e+09</td>\n",
       "      <td>3.190564e+09</td>\n",
       "      <td>3.256065e+09</td>\n",
       "      <td>3.322973e+09</td>\n",
       "      <td>3.393032e+09</td>\n",
       "      <td>3.462460e+09</td>\n",
       "      <td>3.532827e+09</td>\n",
       "      <td>3.607500e+09</td>\n",
       "      <td>...</td>\n",
       "      <td>6.921872e+09</td>\n",
       "      <td>7.002861e+09</td>\n",
       "      <td>7.085763e+09</td>\n",
       "      <td>7.169640e+09</td>\n",
       "      <td>7.254228e+09</td>\n",
       "      <td>7.338965e+09</td>\n",
       "      <td>7.424282e+09</td>\n",
       "      <td>7.509066e+09</td>\n",
       "      <td>7.591933e+09</td>\n",
       "      <td>7.673534e+09</td>\n",
       "    </tr>\n",
       "  </tbody>\n",
       "</table>\n",
       "<p>8 rows × 60 columns</p>\n",
       "</div>"
      ],
      "text/plain": [
       "               1960          1961          1962          1963          1964  \\\n",
       "count  2.610000e+02  2.610000e+02  2.610000e+02  2.610000e+02  2.610000e+02   \n",
       "mean   1.175444e+08  1.191247e+08  1.212364e+08  1.238642e+08  1.265127e+08   \n",
       "std    3.721134e+08  3.765728e+08  3.831323e+08  3.916845e+08  4.002796e+08   \n",
       "min    3.893000e+03  3.989000e+03  4.076000e+03  4.183000e+03  4.308000e+03   \n",
       "25%    5.027450e+05  5.126850e+05  5.237780e+05  5.356850e+05  5.478730e+05   \n",
       "50%    3.659984e+06  3.747753e+06  3.839043e+06  3.933908e+06  4.071411e+06   \n",
       "75%    2.501237e+07  2.576567e+07  2.651303e+07  2.726175e+07  2.798416e+07   \n",
       "max    3.031438e+09  3.072481e+09  3.125457e+09  3.190564e+09  3.256065e+09   \n",
       "\n",
       "               1965          1966          1967          1968          1969  \\\n",
       "count  2.610000e+02  2.610000e+02  2.610000e+02  2.610000e+02  2.610000e+02   \n",
       "mean   1.292265e+08  1.320838e+08  1.349303e+08  1.378298e+08  1.408730e+08   \n",
       "std    4.091109e+08  4.185058e+08  4.278313e+08  4.373716e+08  4.474028e+08   \n",
       "min    4.468000e+03  4.685000e+03  4.920000e+03  5.193000e+03  5.459000e+03   \n",
       "25%    5.599940e+05  5.719640e+05  5.840920e+05  5.984950e+05  6.113000e+05   \n",
       "50%    4.226844e+06  4.310701e+06  4.350452e+06  4.464423e+06  4.518607e+06   \n",
       "75%    2.870467e+07  2.943557e+07  3.013098e+07  3.083830e+07  3.154427e+07   \n",
       "max    3.322973e+09  3.393032e+09  3.462460e+09  3.532827e+09  3.607500e+09   \n",
       "\n",
       "       ...          2010          2011          2012          2013  \\\n",
       "count  ...  2.630000e+02  2.630000e+02  2.630000e+02  2.630000e+02   \n",
       "mean   ...  2.778084e+08  2.813103e+08  2.848843e+08  2.885087e+08   \n",
       "std    ...  8.825330e+08  8.930728e+08  9.037507e+08  9.145551e+08   \n",
       "min    ...  1.000500e+04  1.005700e+04  1.027900e+04  1.082100e+04   \n",
       "25%    ...  1.427037e+06  1.449584e+06  1.474898e+06  1.500978e+06   \n",
       "50%    ...  9.378126e+06  9.460830e+06  9.519374e+06  9.600379e+06   \n",
       "75%    ...  5.090889e+07  5.149739e+07  5.212385e+07  5.277084e+07   \n",
       "max    ...  6.921872e+09  7.002861e+09  7.085763e+09  7.169640e+09   \n",
       "\n",
       "               2014          2015          2016          2017          2018  \\\n",
       "count  2.630000e+02  2.630000e+02  2.630000e+02  2.630000e+02  2.630000e+02   \n",
       "mean   2.921666e+08  2.958387e+08  2.995412e+08  3.032408e+08  3.068762e+08   \n",
       "std    9.254372e+08  9.363454e+08  9.473365e+08  9.583278e+08  9.690588e+08   \n",
       "min    1.097200e+04  1.109900e+04  1.122500e+04  1.137000e+04  1.150800e+04   \n",
       "25%    1.527390e+06  1.554526e+06  1.601674e+06  1.642538e+06  1.683262e+06   \n",
       "50%    9.844297e+06  9.843028e+06  9.923085e+06  1.005770e+07  1.017521e+07   \n",
       "75%    5.341340e+07  5.403355e+07  5.462722e+07  5.583218e+07  5.704898e+07   \n",
       "max    7.254228e+09  7.338965e+09  7.424282e+09  7.509066e+09  7.591933e+09   \n",
       "\n",
       "               2019  \n",
       "count  2.630000e+02  \n",
       "mean   3.104696e+08  \n",
       "std    9.795845e+08  \n",
       "min    1.164600e+04  \n",
       "25%    1.717710e+06  \n",
       "50%    1.026942e+07  \n",
       "75%    5.828187e+07  \n",
       "max    7.673534e+09  \n",
       "\n",
       "[8 rows x 60 columns]"
      ]
     },
     "execution_count": 73,
     "metadata": {},
     "output_type": "execute_result"
    }
   ],
   "source": [
    "dataset.describe()"
   ]
  },
  {
   "cell_type": "code",
   "execution_count": 75,
   "metadata": {},
   "outputs": [
    {
     "data": {
      "text/plain": [
       "264"
      ]
     },
     "execution_count": 75,
     "metadata": {},
     "output_type": "execute_result"
    }
   ],
   "source": [
    "len(dataset) #not including the headers"
   ]
  },
  {
   "cell_type": "code",
   "execution_count": 87,
   "metadata": {},
   "outputs": [
    {
     "data": {
      "text/plain": [
       "81653507252.0"
      ]
     },
     "execution_count": 87,
     "metadata": {},
     "output_type": "execute_result"
    }
   ],
   "source": [
    "'''Total Population of 2019 column\n",
    "Note that this is not the actual world population as there are aggregate amounts\n",
    "found in some rows (e.g. Europe and Central Asia on row 64 and World on row 257)\n",
    "'''\n",
    "\n",
    "dataset['2019'].sum()"
   ]
  },
  {
   "cell_type": "code",
   "execution_count": 93,
   "metadata": {},
   "outputs": [
    {
     "data": {
      "text/html": [
       "<div>\n",
       "<style scoped>\n",
       "    .dataframe tbody tr th:only-of-type {\n",
       "        vertical-align: middle;\n",
       "    }\n",
       "\n",
       "    .dataframe tbody tr th {\n",
       "        vertical-align: top;\n",
       "    }\n",
       "\n",
       "    .dataframe thead th {\n",
       "        text-align: right;\n",
       "    }\n",
       "</style>\n",
       "<table border=\"1\" class=\"dataframe\">\n",
       "  <thead>\n",
       "    <tr style=\"text-align: right;\">\n",
       "      <th></th>\n",
       "      <th>Country Name</th>\n",
       "      <th>Country Code</th>\n",
       "      <th>Indicator Name</th>\n",
       "      <th>Indicator Code</th>\n",
       "      <th>1960</th>\n",
       "      <th>1961</th>\n",
       "      <th>1962</th>\n",
       "      <th>1963</th>\n",
       "      <th>1964</th>\n",
       "      <th>1965</th>\n",
       "      <th>...</th>\n",
       "      <th>2010</th>\n",
       "      <th>2011</th>\n",
       "      <th>2012</th>\n",
       "      <th>2013</th>\n",
       "      <th>2014</th>\n",
       "      <th>2015</th>\n",
       "      <th>2016</th>\n",
       "      <th>2017</th>\n",
       "      <th>2018</th>\n",
       "      <th>2019</th>\n",
       "    </tr>\n",
       "  </thead>\n",
       "  <tbody>\n",
       "    <tr>\n",
       "      <th>243</th>\n",
       "      <td>Tuvalu</td>\n",
       "      <td>TUV</td>\n",
       "      <td>Population, total</td>\n",
       "      <td>SP.POP.TOTL</td>\n",
       "      <td>5323.0</td>\n",
       "      <td>5335.0</td>\n",
       "      <td>5340.0</td>\n",
       "      <td>5343.0</td>\n",
       "      <td>5356.0</td>\n",
       "      <td>5386.0</td>\n",
       "      <td>...</td>\n",
       "      <td>10530.0</td>\n",
       "      <td>10633.0</td>\n",
       "      <td>10739.0</td>\n",
       "      <td>10857.0</td>\n",
       "      <td>10972.0</td>\n",
       "      <td>11099.0</td>\n",
       "      <td>11225.0</td>\n",
       "      <td>11370.0</td>\n",
       "      <td>11508.0</td>\n",
       "      <td>11646.0</td>\n",
       "    </tr>\n",
       "  </tbody>\n",
       "</table>\n",
       "<p>1 rows × 64 columns</p>\n",
       "</div>"
      ],
      "text/plain": [
       "    Country Name Country Code     Indicator Name Indicator Code    1960  \\\n",
       "243       Tuvalu          TUV  Population, total    SP.POP.TOTL  5323.0   \n",
       "\n",
       "       1961    1962    1963    1964    1965  ...     2010     2011     2012  \\\n",
       "243  5335.0  5340.0  5343.0  5356.0  5386.0  ...  10530.0  10633.0  10739.0   \n",
       "\n",
       "        2013     2014     2015     2016     2017     2018     2019  \n",
       "243  10857.0  10972.0  11099.0  11225.0  11370.0  11508.0  11646.0  \n",
       "\n",
       "[1 rows x 64 columns]"
      ]
     },
     "execution_count": 93,
     "metadata": {},
     "output_type": "execute_result"
    }
   ],
   "source": [
    "#Least population on 2019\n",
    "dataset[dataset['2019'] == dataset['2019'].min()]"
   ]
  },
  {
   "cell_type": "code",
   "execution_count": 97,
   "metadata": {},
   "outputs": [
    {
     "data": {
      "text/html": [
       "<div>\n",
       "<style scoped>\n",
       "    .dataframe tbody tr th:only-of-type {\n",
       "        vertical-align: middle;\n",
       "    }\n",
       "\n",
       "    .dataframe tbody tr th {\n",
       "        vertical-align: top;\n",
       "    }\n",
       "\n",
       "    .dataframe thead th {\n",
       "        text-align: right;\n",
       "    }\n",
       "</style>\n",
       "<table border=\"1\" class=\"dataframe\">\n",
       "  <thead>\n",
       "    <tr style=\"text-align: right;\">\n",
       "      <th></th>\n",
       "      <th>Country Name</th>\n",
       "      <th>Country Code</th>\n",
       "      <th>2019</th>\n",
       "    </tr>\n",
       "  </thead>\n",
       "  <tbody>\n",
       "    <tr>\n",
       "      <th>257</th>\n",
       "      <td>World</td>\n",
       "      <td>WLD</td>\n",
       "      <td>7.673534e+09</td>\n",
       "    </tr>\n",
       "  </tbody>\n",
       "</table>\n",
       "</div>"
      ],
      "text/plain": [
       "    Country Name Country Code          2019\n",
       "257        World          WLD  7.673534e+09"
      ]
     },
     "execution_count": 97,
     "metadata": {},
     "output_type": "execute_result"
    }
   ],
   "source": [
    "#Most population on 2019\n",
    "dataset[dataset['2019'] == dataset['2019'].max()][['Country Name', 'Country Code', '2019']]"
   ]
  },
  {
   "cell_type": "markdown",
   "metadata": {},
   "source": [
    "[*Return to top.*](#Table-of-Contents)\n",
    "\n",
    "## References\n",
    "\n",
    "Official pandas Reference: https://pandas.pydata.org/pandas-docs/stable/reference/\n",
    "\n",
    "Package Overview: https://pandas.pydata.org/docs/getting_started/overview.html\n",
    "\n",
    "10 minutes to Pandas: https://pandas.pydata.org/docs/user_guide/10min.html\n",
    "\n",
    "Pandas Cheat Sheet: https://pandas.pydata.org/Pandas_Cheat_Sheet.pdf\n",
    "\n",
    "Quora vs Excel: https://www.quora.com/What-are-the-benefits-of-a-Pythons-pandas-over-Microsoft-Excel-for-data-analysis?share=1"
   ]
  },
  {
   "cell_type": "markdown",
   "metadata": {},
   "source": [
    "## Installation Help"
   ]
  },
  {
   "cell_type": "code",
   "execution_count": 49,
   "metadata": {},
   "outputs": [
    {
     "data": {
      "image/png": "[encoded data removed]",
      "text/plain": [
       "<IPython.core.display.Image object>"
      ]
     },
     "execution_count": 49,
     "metadata": {},
     "output_type": "execute_result"
    }
   ],
   "source": [
    "Image(\"img/ms_store.png\")"
   ]
  },
  {
   "cell_type": "code",
   "execution_count": 48,
   "metadata": {},
   "outputs": [
    {
     "data": {
      "image/png": "[encoded data removed]",
      "text/plain": [
       "<IPython.core.display.Image object>"
      ]
     },
     "execution_count": 48,
     "metadata": {},
     "output_type": "execute_result"
    }
   ],
   "source": [
    "Image(\"img/pip_freeze.png\")"
   ]
  }
 ],
 "metadata": {
  "kernelspec": {
   "display_name": "Python 3",
   "language": "python",
   "name": "python3"
  },
  "language_info": {
   "codemirror_mode": {
    "name": "ipython",
    "version": 3
   },
   "file_extension": ".py",
   "mimetype": "text/x-python",
   "name": "python",
   "nbconvert_exporter": "python",
   "pygments_lexer": "ipython3",
   "version": "3.8.1"
  }
 },
 "nbformat": 4,
 "nbformat_minor": 4
}
